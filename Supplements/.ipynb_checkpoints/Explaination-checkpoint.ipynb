{
 "cells": [
  {
   "cell_type": "markdown",
   "metadata": {},
   "source": [
    "## Variable Explainations:\n",
    "\n",
    "<em>Variables explaination for Tian et al.(2020) DGP :</em>\n",
    "<br>\n",
    "\n",
    "|Variables   |Type       |Explaination                                                                                  |\n",
    "|------------|-----------|----------------------------------------------------------------------------------------------|\n",
    "|Severity    |Categorical|This variable determines if a patient is diagnosed as a severe case                           |\n",
    "|Gender      |Categorical|Male or female                                                                                |\n",
    "|Age         |Numerical  |Age                                                                                           |\n",
    "|Address     |Numerical  |Where the patient lives                                                                       |\n",
    "|Contact     |Categorical|Have the patient been in contact with anyone from Wuhan or any infected cases within 14 days  |\n",
    "|Temperature |Numerical  |Body temerature measured during diagnosis                                                     |\n",
    "|Tlabel      |Numerical  |Label correspond to temperature, including: Normal, Fever, and Hyperpyrexia                   |\n",
    "|Symptoms    |Numerical  |Symptoms including Coughing, Fatigue, Dyspnea, Headache (Without fever)                       |\n",
    "|Result      |Categorical|Three categories: discharge, further hospitalization, death                                   |\n",
    "\n",
    "<br>\n",
    "\n",
    "<em>Variables explaination for Jones-White et al.(2014) DGP:</em>                                                                            \n",
    "<br>\n",
    "\n",
    "|Variables   |Type       |Explaination                                                                                       |\n",
    "|------------|-----------|---------------------------------------------------------------------------------------------------|\n",
    "|Gender      |Categorical|Male or female                                                                                     |\n",
    "|Race        |Categorical|Which race is the student from, including White, Asian, and other Minorities\t                     |\n",
    "|Generation  |Categorical|Denotes if the student is the first generation in the family to attend university or not           |\n",
    "|Status\t     |Categorical|Whether the student is younger than 19 on the first day of enrolment in the university             |\n",
    "|Geographic  |Categorical|Details if the students are from specific states                                                   |\n",
    "|Remedy      |Categorical|Shows if the student takes remedial courses or nnot                                                |\n",
    "|Choice      |Categorical|If the observed university is the students' first choice of university or not                      |\n",
    "|Living      |Categorical|Where the student live: Outside Campus or on Campus                                                |\n",
    "|Community   |Categorical|If the student is participating in community activities                                            |\n",
    "|Athlete     |Categorical|If the student is considered as an athlete representitive for the university                       |\n",
    "|Aidtype     |Categorical|Which type of financial aid the student gets, including: None, Loan, Need, and Merit               |\n",
    "|Aidamount   |Numerical  |The amount (in \\$1000 USD) that corresponds to the Aidtype, notice for none it is always 0         |\n",
    "|Unmet       |Numerical  |The amount (in \\$1000 USD) of unmet financial needs that the students get after the Aid            |\n",
    "|ACT         |Numerical  |The score the student gets for composite American College Test (ACT)                               |\n",
    "|AP          |Numerical  |Number of Advanced Placement credit                                                                |\n",
    "|Course      |Numerical  |Course completion rate during the first semester                                                   |\n",
    "|Ccount      |Numerical  |Amount of C counts with the maxium given 5                                                         |\n",
    "|Dcount      |Numerical  |Amount of D counts with the maxium given 4                                                         |\n",
    "|Result      |Categorical|The end result correspond to the paper: Graduated, Transferred then graduated, or Not Graduated    |"
   ]
  }
 ],
 "metadata": {
  "kernelspec": {
   "display_name": "R",
   "language": "R",
   "name": "ir"
  },
  "language_info": {
   "codemirror_mode": "r",
   "file_extension": ".r",
   "mimetype": "text/x-r-source",
   "name": "R",
   "pygments_lexer": "r",
   "version": "3.6.1"
  }
 },
 "nbformat": 4,
 "nbformat_minor": 4
}
