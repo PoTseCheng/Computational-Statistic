{
 "cells": [
  {
   "cell_type": "markdown",
   "metadata": {},
   "source": [
    "## Detailed algebra proof for Jones-White et al.(2014) DGP Result:\n",
    "\n",
    "by Po-Tse Cheng\n",
    "\n",
    "We have the three relative possibilities below:\n",
    "<br>\n",
    "$ \n",
    "  \\dfrac{Pr(NG)}{Pr(G)}=A, \\hspace{2cm} \\dfrac{Pr(TG)}{Pr(G)}=B, \\hspace{2cm} \\dfrac{Pr(NG)}{Pr(TG)}=C \\\\\n",
    "$\n",
    "\n",
    "By transpostion, we get:\n",
    "\n",
    "$\n",
    "  \\dfrac{Pr(NG)}{Pr(G)}=A \\hspace{1cm} \\Rightarrow \\hspace{1cm} Pr(NG)=Pr(G)A \\\\\n",
    "  \\dfrac{Pr(NG)}{Pr(TG)}=C \\hspace{1cm} \\Rightarrow \\hspace{1cm} Pr(NG)=Pr(TG)C\\\\\n",
    "  \\dfrac{Pr(TG)}{Pr(G)}=B  \\hspace{1cm} \\Rightarrow \\hspace{1cm} Pr(TG)=Pr(G)B \\\\\n",
    "$\n",
    "\n",
    "Then since $Pr(NG)$ are equal:\n",
    "\n",
    "$Pr(TG)C=Pr(G)A \\hspace{1cm} \\Rightarrow \\hspace{1cm} \\dfrac{Pr(TG)}{A}=\\dfrac{Pr(G)}{C}$\n",
    "\n",
    "Also since $Pr(G)=\\dfrac{Pr(TG)}{B}$, via plugging it in $Pr(NG)=Pr(G)A$ we can get:\n",
    "\n",
    "$\n",
    "Pr(NG)=A\\dfrac{Pr(TG)}{B}\n",
    "$\n",
    "\n",
    "Then by using $Pr(T)$:\n",
    "\n",
    "$\n",
    "B\\dfrac{Pr(NG)}{A}=Pr(T)=A\\dfrac{Pr(G)}{C} \\hspace{1cm} \\Rightarrow \\hspace{1cm} \\dfrac{Pr(NG)}{A^2}=\\dfrac{Pr(T)}{AB}=\\dfrac{Pr(G)}{BC}\n",
    "$\n",
    "\n",
    "We are done."
   ]
  }
 ],
 "metadata": {
  "kernelspec": {
   "display_name": "R",
   "language": "R",
   "name": "ir"
  },
  "language_info": {
   "codemirror_mode": "r",
   "file_extension": ".r",
   "mimetype": "text/x-r-source",
   "name": "R",
   "pygments_lexer": "r",
   "version": "3.6.1"
  }
 },
 "nbformat": 4,
 "nbformat_minor": 4
}
