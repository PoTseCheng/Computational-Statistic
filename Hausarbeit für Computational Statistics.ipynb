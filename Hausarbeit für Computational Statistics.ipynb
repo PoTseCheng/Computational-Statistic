{
 "cells": [
  {
   "cell_type": "markdown",
   "metadata": {},
   "source": [
    "Course: Computational Statistics | SS2020 | University of Bonn\n",
    "# Topic: Comparison in algorithms for Classification Tree\n",
    "\n",
    "Author: Po-Tse Cheng"
   ]
  },
  {
   "cell_type": "markdown",
   "metadata": {},
   "source": [
    "maybe the structure list here? (see if we got enough space)"
   ]
  },
  {
   "cell_type": "code",
   "execution_count": 1,
   "metadata": {},
   "outputs": [
    {
     "name": "stderr",
     "output_type": "stream",
     "text": [
      "Installing packages into 'C:/Users/Viktor Cheng/Documents/R/win-library/3.6'\n",
      "(as 'lib' is unspecified)\n"
     ]
    },
    {
     "name": "stdout",
     "output_type": "stream",
     "text": [
      "\n",
      "  There is a binary version available but the source version is later:\n",
      "      binary source needs_compilation\n",
      "RWeka 0.4-42 0.4-43             FALSE\n",
      "\n",
      "package 'partykit' successfully unpacked and MD5 sums checked\n"
     ]
    },
    {
     "name": "stderr",
     "output_type": "stream",
     "text": [
      "Warning message:\n",
      "\"cannot remove prior installation of package 'partykit'\"Warning message in file.copy(savedcopy, lib, recursive = TRUE):\n",
      "\"複製 C:\\Users\\Viktor Cheng\\Documents\\R\\win-library\\3.6\\00LOCK\\partykit\\libs\\x64\\partykit.dll 到 C:\\Users\\Viktor Cheng\\Documents\\R\\win-library\\3.6\\partykit\\libs\\x64\\partykit.dll 時出了問題：Permission denied\"Warning message:\n",
      "\"restored 'partykit'\""
     ]
    },
    {
     "name": "stdout",
     "output_type": "stream",
     "text": [
      "package 'rpart' successfully unpacked and MD5 sums checked\n"
     ]
    },
    {
     "name": "stderr",
     "output_type": "stream",
     "text": [
      "Warning message:\n",
      "\"cannot remove prior installation of package 'rpart'\"Warning message in file.copy(savedcopy, lib, recursive = TRUE):\n",
      "\"複製 C:\\Users\\Viktor Cheng\\Documents\\R\\win-library\\3.6\\00LOCK\\rpart\\libs\\x64\\rpart.dll 到 C:\\Users\\Viktor Cheng\\Documents\\R\\win-library\\3.6\\rpart\\libs\\x64\\rpart.dll 時出了問題：Permission denied\"Warning message:\n",
      "\"restored 'rpart'\""
     ]
    },
    {
     "name": "stdout",
     "output_type": "stream",
     "text": [
      "package 'truncnorm' successfully unpacked and MD5 sums checked\n"
     ]
    },
    {
     "name": "stderr",
     "output_type": "stream",
     "text": [
      "Warning message:\n",
      "\"cannot remove prior installation of package 'truncnorm'\"Warning message in file.copy(savedcopy, lib, recursive = TRUE):\n",
      "\"複製 C:\\Users\\Viktor Cheng\\Documents\\R\\win-library\\3.6\\00LOCK\\truncnorm\\libs\\x64\\truncnorm.dll 到 C:\\Users\\Viktor Cheng\\Documents\\R\\win-library\\3.6\\truncnorm\\libs\\x64\\truncnorm.dll 時出了問題：Permission denied\"Warning message:\n",
      "\"restored 'truncnorm'\""
     ]
    },
    {
     "name": "stdout",
     "output_type": "stream",
     "text": [
      "package 'remotes' successfully unpacked and MD5 sums checked\n",
      "package 'wakefield' successfully unpacked and MD5 sums checked\n",
      "package 'data.table' successfully unpacked and MD5 sums checked\n"
     ]
    },
    {
     "name": "stderr",
     "output_type": "stream",
     "text": [
      "Warning message:\n",
      "\"cannot remove prior installation of package 'data.table'\"Warning message in file.copy(savedcopy, lib, recursive = TRUE):\n",
      "\"複製 C:\\Users\\Viktor Cheng\\Documents\\R\\win-library\\3.6\\00LOCK\\data.table\\libs\\x64\\datatable.dll 到 C:\\Users\\Viktor Cheng\\Documents\\R\\win-library\\3.6\\data.table\\libs\\x64\\datatable.dll 時出了問題：Permission denied\"Warning message:\n",
      "\"restored 'data.table'\""
     ]
    },
    {
     "name": "stdout",
     "output_type": "stream",
     "text": [
      "\n",
      "The downloaded binary packages are in\n",
      "\tC:\\Users\\Viktor Cheng\\AppData\\Local\\Temp\\RtmpeMVjHD\\downloaded_packages\n"
     ]
    },
    {
     "name": "stderr",
     "output_type": "stream",
     "text": [
      "installing the source package 'RWeka'\n",
      "\n",
      "Warning message in install.packages(c(\"partykit\", \"RWeka\", \"rpart\", \"truncnorm\", :\n",
      "\"installation of package 'RWeka' had non-zero exit status\"Warning message:\n",
      "\"package 'wakefield' was built under R version 3.6.3\"Warning message:\n",
      "\"package 'partykit' was built under R version 3.6.3\"Loading required package: grid\n",
      "Loading required package: libcoin\n",
      "Warning message:\n",
      "\"package 'libcoin' was built under R version 3.6.3\"Loading required package: mvtnorm\n",
      "Warning message:\n",
      "\"package 'mvtnorm' was built under R version 3.6.3\"Warning message:\n",
      "\"package 'truncnorm' was built under R version 3.6.3\"Warning message:\n",
      "\"package 'rpart' was built under R version 3.6.3\"Warning message:\n",
      "\"package 'RWeka' was built under R version 3.6.3\"Warning message:\n",
      "\"package 'data.table' was built under R version 3.6.3\"\n",
      "Attaching package: 'data.table'\n",
      "\n",
      "The following objects are masked from 'package:wakefield':\n",
      "\n",
      "    hour, minute, month, second, year\n",
      "\n"
     ]
    }
   ],
   "source": [
    "#install packages in need\n",
    "install.packages(c(\"partykit\", \"RWeka\", \"rpart\", \"truncnorm\", \"remotes\",\"wakefield\", \"partykit\", \"data.table\"))\n",
    "\n",
    "#initial the packages require for the projects:\n",
    "library(wakefield)\n",
    "library(partykit)\n",
    "library(truncnorm)\n",
    "library(rpart)\n",
    "library(RWeka)\n",
    "library(partykit)\n",
    "library(data.table)\n",
    "\n",
    "#import the custom DGP function from R codes in the repository\n",
    "source(\"R codes/DGP.R\")\n",
    "\n",
    "#supress unwanted warning in loading packages\n",
    "#options(warn=-1)\n",
    "#do this in the end"
   ]
  },
  {
   "cell_type": "markdown",
   "metadata": {},
   "source": [
    "## 1. Introduction <a id='Chap1'></a>"
   ]
  },
  {
   "cell_type": "markdown",
   "metadata": {},
   "source": [
    "The main purpose of this notebook is to showcase the strengh and weekness of different algorithms in classification tree, in particular, the decision making mechanism behind the splits between nodes. The motivation behind this attempt is to understand each individual splitting methods more thoroughly, as within the courses\n",
    "\n",
    "\n",
    "Two seperate DGPs with different characteristics will be utilised to help evaulate the algorithms. In total 3 algorithms will be discussed:\n",
    "<ul>\n",
    "    <li>Classification and Regression Trees (CART)</li>\n",
    "    <li>C4.5</li>\n",
    "    <li>Conditional Inference Trees (Ctree)</li>\n",
    "</ul>\n",
    "\n",
    "The most direct algorithm for determining a split is the <em>Gini Index</em>, which is employed by CART. C4.5 uses the <em>Shannon Entropy </em>method which in some sense is simliar to Gini Index. Lastly, Ctree incoporates the <em>Chi-square test</em> to determine the split. In this notebook,  we will be using the rpart package for CART algorithm, rweka for J48, and finally partykit package for Ctree. \n",
    "\n",
    "This notebook is also constructed in the following way: in the second chapter we will take a look at the two DGPs including personal assumptions and the mechanism of each algorithms. Section 3 will be   . Lastly, section 4 contains our conclusion."
   ]
  },
  {
   "cell_type": "markdown",
   "metadata": {},
   "source": []
  },
  {
   "cell_type": "markdown",
   "metadata": {},
   "source": [
    "<div class=\"alert alert-block alert-info\">\n",
    "    <b>Additional Note:</b> The DGP functions are quite long, therefore I decided to import it from the repository. For the sake of transparency, please <a href=\"https://github.com/PoTseCheng/Computational-Statistic/blob/master/R%20codes/DGP.R\">click here</a> to evaluate the code. \n",
    "    \n",
    "</div>"
   ]
  },
  {
   "cell_type": "markdown",
   "metadata": {},
   "source": [
    "## 2. DGPs and Theoretical Perspectives <a id='Chap2'></a>"
   ]
  },
  {
   "cell_type": "markdown",
   "metadata": {},
   "source": [
    "### 2.1. Data Generating Procedures <a id='Chap2.1'></a>"
   ]
  },
  {
   "cell_type": "markdown",
   "metadata": {},
   "source": [
    "In this section we will be going through the two main DGPs: The first one came from Tian et al.(2020) from Journal of Infection, while the second one is from Jones-White et al.(2014) published in Research in Higher Education. The first paper analysed the symptoms of COVID-19 and the consequences of all 262 cases. Furthermore, the 262 cases were splitted into 2 subgroups by clinical perspective. The Jones-White et al.(2014) used multinominal logistic regression model to establish a connection between financial aids and students' college outcomes. For the sake of conciseness, we will just refer to the DGP from Tian et al.(2020) as DGP1 and DGP from Jones-White et al.(2014) as DGP2.\n",
    "\n",
    "These two papers were intentionally selected as they contain data with different characteristics. Tian et al.(2020) gathers data from the hosipital in Beijin to \n",
    "still need writing here\n",
    "\n",
    "Below is a short summary of data from the respective original papers:\n",
    "\n"
   ]
  },
  {
   "cell_type": "markdown",
   "metadata": {},
   "source": [
    "We will start by generating 500 observations from our custom DGP functions:"
   ]
  },
  {
   "cell_type": "code",
   "execution_count": 7,
   "metadata": {},
   "outputs": [],
   "source": [
    "set.seed(123)\n",
    "data1<- Observations(500)\n",
    "data2<- Observations2(500)"
   ]
  },
  {
   "cell_type": "markdown",
   "metadata": {},
   "source": [
    "#### 2.1.1. Tian et al.(2020)  DGP <a id='Chap2.1.1'></a>"
   ]
  },
  {
   "cell_type": "markdown",
   "metadata": {},
   "source": [
    "We will start by looking at DGP1 and the underlying assumptions. Below is descriptive statistics from Tian et al.(2020):\n",
    "\n",
    "<img src=\"Pics/DGP1.png\">\n",
    "<br>\n",
    "\n",
    "The immediate assumption I imposed on this data is that I assumed that most characteristics from a single observation are not correlated with each other. This is not quite realistic as diseases symptoms are far more complicated and will potentially influence each other. The main motivation is to lessen the complication when it comes to data generating. Moreover, the main focus of the paper was not discussing how those symptoms influence each others rather trying to document the result with countermeasures conducted by the government. Another very important assumption is that I assume the end result of the patient are also <strong>not correlated</strong> with any variables in the observations. This is one of the main reason having two seperate DGPs, as the other are results following by the founding of the paper. This decision will also lead to different behaviors of our decision tree, which will be later discussed in below. I however do account the importance of the severity split in the very beginning, as seen in the descriptive statistics the ratio of two groups differs. More importantly, the result of a severe case has the possibility of death, while the counterpart doesn't. Some other minor assumptions including age, and temperature. There aren't any implicit discussion regarding the ages in the paper, therefore I took the liberty to use a package called <a href=\"https://cran.r-project.org/web/packages/wakefield/wakefield.pdf\">Wakefield</a>. The age distribution implemented by the package follows the range of data gathered by <a href=\"https://gssdataexplorer.norc.org/variables/53/vshow\">GSS Data Explorer</a>, for more details please consult the package documents. Lastly, I assume the distribution for the temperature is a uniform distribution, as no further discussion were found in the original paper.\n",
    "\n",
    "---\n",
    "\n",
    "Procedure:\n",
    "\n",
    "<ol>\n",
    " \n",
    "<li>The generated data will first be splitted into two big sections: severity equals 1 or 0. The percentage for the split is 46/262 and 216/262 following the suggestion of the paper.</li>\n",
    "    <br>\n",
    "<li>The age variable is first splitted into subgroups similar to the paper, then generated via the age function by the Wakefield package. </li>\n",
    "    <br>\n",
    "<li>The temperature generating process is similar to age, but with a uniform distribution.</li>\n",
    "    <br>\n",
    "<li>Other variables are generated by the sample function with given probability from paper.</li>\n",
    "    \n",
    "</ol>\n",
    "<br>\n",
    "\n"
   ]
  },
  {
   "cell_type": "markdown",
   "metadata": {},
   "source": [
    "<div class=\"alert alert-block alert-info\">\n",
    "    <b>Additional Note:</b> The values within the parenthesis for the first descriptive statistics <strong>are not</strong> the mean, but rather the percentage relative in the subgroup.\n",
    "    \n",
    "</div>"
   ]
  },
  {
   "cell_type": "code",
   "execution_count": 8,
   "metadata": {
    "scrolled": true
   },
   "outputs": [
    {
     "data": {
      "text/html": [
       "<table>\n",
       "<thead><tr><th scope=col>Severity</th><th scope=col>Gender</th><th scope=col>Age</th><th scope=col>Address</th><th scope=col>Contact</th><th scope=col>Temperature</th><th scope=col>Tlabel</th><th scope=col>Symptoms</th><th scope=col>Result</th></tr></thead>\n",
       "<tbody>\n",
       "\t<tr><td>0                </td><td>Male             </td><td>19               </td><td>Beijin           </td><td>Wuhan 14 days    </td><td>37.91            </td><td>Fever            </td><td>Fatigue          </td><td>Hospitalization  </td></tr>\n",
       "\t<tr><td>0                </td><td>Male             </td><td>30               </td><td>Other            </td><td>Wuhan 14 days    </td><td>37.73            </td><td>Fever            </td><td>Dyspnea          </td><td>Hospitalization  </td></tr>\n",
       "\t<tr><td>0                </td><td>Female           </td><td>69               </td><td>Beijin           </td><td>Wuhan 14 days    </td><td>38.94            </td><td>Fever            </td><td>Coughing         </td><td>Hospitalization  </td></tr>\n",
       "\t<tr><td>0                </td><td>Male             </td><td>90               </td><td>Beijin           </td><td>Case 14 days     </td><td>40.55            </td><td>Hyperpyrexia     </td><td>Headache         </td><td>Hospitalization  </td></tr>\n",
       "\t<tr><td>1                </td><td>Male             </td><td>48               </td><td>Beijin           </td><td>Case 14 days     </td><td>37.57            </td><td>Fever            </td><td>Coughing, Fatigue</td><td>Hospitalization  </td></tr>\n",
       "\t<tr><td>0                </td><td>Female           </td><td>22               </td><td>Beijin           </td><td>Case 14 days     </td><td>36.61            </td><td>Normal           </td><td>Coughing, Fatigue</td><td>Hospitalization  </td></tr>\n",
       "</tbody>\n",
       "</table>\n"
      ],
      "text/latex": [
       "\\begin{tabular}{r|lllllllll}\n",
       " Severity & Gender & Age & Address & Contact & Temperature & Tlabel & Symptoms & Result\\\\\n",
       "\\hline\n",
       "\t 0                 & Male              & 19                & Beijin            & Wuhan 14 days     & 37.91             & Fever             & Fatigue           & Hospitalization  \\\\\n",
       "\t 0                 & Male              & 30                & Other             & Wuhan 14 days     & 37.73             & Fever             & Dyspnea           & Hospitalization  \\\\\n",
       "\t 0                 & Female            & 69                & Beijin            & Wuhan 14 days     & 38.94             & Fever             & Coughing          & Hospitalization  \\\\\n",
       "\t 0                 & Male              & 90                & Beijin            & Case 14 days      & 40.55             & Hyperpyrexia      & Headache          & Hospitalization  \\\\\n",
       "\t 1                 & Male              & 48                & Beijin            & Case 14 days      & 37.57             & Fever             & Coughing, Fatigue & Hospitalization  \\\\\n",
       "\t 0                 & Female            & 22                & Beijin            & Case 14 days      & 36.61             & Normal            & Coughing, Fatigue & Hospitalization  \\\\\n",
       "\\end{tabular}\n"
      ],
      "text/markdown": [
       "\n",
       "| Severity | Gender | Age | Address | Contact | Temperature | Tlabel | Symptoms | Result |\n",
       "|---|---|---|---|---|---|---|---|---|\n",
       "| 0                 | Male              | 19                | Beijin            | Wuhan 14 days     | 37.91             | Fever             | Fatigue           | Hospitalization   |\n",
       "| 0                 | Male              | 30                | Other             | Wuhan 14 days     | 37.73             | Fever             | Dyspnea           | Hospitalization   |\n",
       "| 0                 | Female            | 69                | Beijin            | Wuhan 14 days     | 38.94             | Fever             | Coughing          | Hospitalization   |\n",
       "| 0                 | Male              | 90                | Beijin            | Case 14 days      | 40.55             | Hyperpyrexia      | Headache          | Hospitalization   |\n",
       "| 1                 | Male              | 48                | Beijin            | Case 14 days      | 37.57             | Fever             | Coughing, Fatigue | Hospitalization   |\n",
       "| 0                 | Female            | 22                | Beijin            | Case 14 days      | 36.61             | Normal            | Coughing, Fatigue | Hospitalization   |\n",
       "\n"
      ],
      "text/plain": [
       "  Severity Gender Age Address Contact       Temperature Tlabel      \n",
       "1 0        Male   19  Beijin  Wuhan 14 days 37.91       Fever       \n",
       "2 0        Male   30  Other   Wuhan 14 days 37.73       Fever       \n",
       "3 0        Female 69  Beijin  Wuhan 14 days 38.94       Fever       \n",
       "4 0        Male   90  Beijin  Case 14 days  40.55       Hyperpyrexia\n",
       "5 1        Male   48  Beijin  Case 14 days  37.57       Fever       \n",
       "6 0        Female 22  Beijin  Case 14 days  36.61       Normal      \n",
       "  Symptoms          Result         \n",
       "1 Fatigue           Hospitalization\n",
       "2 Dyspnea           Hospitalization\n",
       "3 Coughing          Hospitalization\n",
       "4 Headache          Hospitalization\n",
       "5 Coughing, Fatigue Hospitalization\n",
       "6 Coughing, Fatigue Hospitalization"
      ]
     },
     "metadata": {},
     "output_type": "display_data"
    }
   ],
   "source": [
    "showcase1<- data.table(data1)\n",
    "showcase1[sample(.N, 6)]"
   ]
  },
  {
   "cell_type": "markdown",
   "metadata": {},
   "source": [
    "<em>Variables explaination for DGP1:</em>\n",
    "<br>\n",
    "\n",
    "|Variables   |Type       |Explaination                                                                                  |\n",
    "|------------|-----------|----------------------------------------------------------------------------------------------|\n",
    "|Severity    |Categorical|This variable determines if a patient is diagnosed as a severe case                           |\n",
    "|Gender      |Categorical|Male or female                                                                                |\n",
    "|Age         |Numerical  |Age                                                                                           |\n",
    "|Address     |Numerical  |Where the patient lives                                                                       |\n",
    "|Contact     |Categorical|Have the patient been in contact with anyone from Wuhan or any infected cases within 14 days  |\n",
    "|Temperature |Numerical  |Body temerature measured during diagnosis                                                     |\n",
    "|Tlabel      |Numerical  |Label correspond to temperature, including: Normal, Fever, and Hyperpyrexia                   |\n",
    "|Symptoms    |Numerical  |Symptoms including Coughing, Fatigue, Dyspnea, Headache (Without fever)                       |\n",
    "|Result      |Categorical|Three categories: discharge, further hospitalization, death                                   |\n"
   ]
  },
  {
   "cell_type": "markdown",
   "metadata": {},
   "source": [
    "#### 2.1.2 Jones-White et al.(2014) DGP <a id='Chap2.1.2'></a>"
   ]
  },
  {
   "cell_type": "markdown",
   "metadata": {},
   "source": [
    "The procedure of this particular DGP is more complicated than the previous DGP, as it requires one to take the result from the paper. Please take a look at the below descriptive statistics:\n",
    "\n",
    "<img src=\"Pics/DGP2.png\">\n",
    "\n",
    "\n",
    "Assumption here:\n",
    "\n",
    "\n",
    "Result:\n",
    "\n",
    "Most of the values generated are achieved by the rtruncnorm function, with respect to the original paper. This package allows us to have a normal distribution, while determining the cutoffs for maximum and minimum. The main difference with DGP2 with DGP1 is that in this particular DGP, we deassembled the results in order to try to get the original observations. The method considered by Jones-White et al.(2014) are the followings:\n",
    "  \n",
    "$\\ln{\\Omega_{m|b}}=\\ln{\\dfrac{Pr(y=m|x)}{Pr(y=b|x)}}=x\\beta_{m|b},\\hspace{1cm} m=1,...,J$\n",
    "\n",
    "The multinominal approach allow us to get the relative probility of a given state compared to a measured state. Please now consider the following table from the paper:\n",
    "\n",
    "<img src=\"Pics/Coeff.png\">\n",
    "\n",
    "The above-mentioned table showcase the Relative Risk Ratio, which is calculated by taking the natural exponetial of the logit coefficients by the <em>epicalc</em> package (mentioned in page 339). Which means we will be able to derive the original betas from these variables via taking the natural logirithm. We then multiple the betas with the x from our previous discussion.\n",
    "\n",
    "One may immediately notice that soley with the value of one $x\\beta$ is not enough to conclude our result, as the nature of $x\\beta$ merely represent the <strong>relative possiblity</strong> for one of the cases. In this case, we need to consider all three $x\\beta$ to conclude \n",
    "\n",
    "\n",
    "Consider the following three relative probability A, B, and C. Notice that NG denotes Not Graduated, G denotes Graduated, and TG denotes Transfer Graduated:\n",
    "\n",
    "$ \n",
    "  \\dfrac{Pr(NG)}{Pr(G)}=A \\\\\n",
    "  \\dfrac{Pr(TG)}{Pr(G)}=B  \\\\\n",
    "  \\dfrac{Pr(NG)}{Pr(TG)}=C \\\\\n",
    "$\n",
    "\n",
    "By transpostion, we get:\n",
    "\n",
    "$\n",
    "  \\dfrac{Pr(NG)}{Pr(G)}=A \\hspace{1cm} \\Rightarrow \\hspace{1cm} Pr(NG)=Pr(G)A \\\\\n",
    "  \\dfrac{Pr(NG)}{Pr(TG)}=C \\hspace{1cm} \\Rightarrow \\hspace{1cm} Pr(NG)=Pr(TG)C\\\\\n",
    "  \\dfrac{Pr(TG)}{Pr(G)}=B  \\hspace{1cm} \\Rightarrow \\hspace{1cm} Pr(TG)=Pr(G)B\\\\\n",
    "$\n",
    "\n",
    "Then since $Pr(NG)$ are equal:\n",
    "\n",
    "$Pr(TG)C=Pr(G)A \\hspace{1cm} \\Rightarrow \\hspace{1cm} \\dfrac{Pr(TG)}{A}=\\dfrac{Pr(G)}{C}$\n",
    "\n",
    "Also since $Pr(G)=\\dfrac{Pr(TG)}{B}$, via plugging it in $Pr(NG)=Pr(G)A$ we can get:\n",
    "\n",
    "$\n",
    "Pr(NG)=A\\dfrac{Pr(TG)}{B}\n",
    "$\n",
    "\n",
    "Then by using $Pr(T)$:\n",
    "\n",
    "$\n",
    "B\\dfrac{Pr(NG)}{A}=Pr(T)=A\\dfrac{Pr(G)}{C} \\hspace{1cm} \\Rightarrow \\hspace{1cm} \\dfrac{Pr(NG)}{A^2}=\\dfrac{Pr(T)}{AB}=\\dfrac{Pr(G)}{BC}\n",
    "$\n",
    "\n",
    "We can finally get:\n",
    "\n",
    "$$\n",
    "1 = \\left\\{\n",
    "    \\begin{array}\\\\\n",
    "        A^2 & \\mbox{Pr(NG)} \\\\\n",
    "        AB & \\mbox{Pr(T) }  \\\\\n",
    "        BC & \\mbox{Pr(G)}\n",
    "    \\end{array}\n",
    "\\right.\n",
    "$$\n",
    "\n",
    "\n",
    "After successfully deriving the ratio between all three cases, we then exploit this ratio to create the probability needed for our final result.\n",
    "\n",
    "---\n",
    "\n",
    "Procedure:\n",
    "\n",
    "<ol>\n",
    "    <li>Dummy variables were first generated according to the given mean ,and standard deviation.</li>\n",
    "    <br>\n",
    "    <li>Other variables were then generated by Truncnorm package.</li>\n",
    "    <br>\n",
    "    <li>Financial aid types were first generated according to the paper.</li>\n",
    "    <br>\n",
    "    <li>According to the list, generate the financial amount according to the mean, and sd.</li>\n",
    "    <br>\n",
    "    <li>Calculate the possibilities for individual observation suggested by the paper.</li>\n",
    "    <br>\n",
    "    <li>Generate the result using the possiblities generated in previous step.</li>\n",
    "    \n",
    "</ol>"
   ]
  },
  {
   "cell_type": "code",
   "execution_count": 4,
   "metadata": {},
   "outputs": [
    {
     "data": {
      "text/html": [
       "<table>\n",
       "<thead><tr><th scope=col>Gender</th><th scope=col>Race</th><th scope=col>Generation</th><th scope=col>Status</th><th scope=col>Geographic</th><th scope=col>Remedy</th><th scope=col>Choice</th><th scope=col>Living</th><th scope=col>Community</th><th scope=col>Athlete</th><th scope=col>Aidtype</th><th scope=col>Aidamount</th><th scope=col>Unmet</th><th scope=col>ACT</th><th scope=col>AP</th><th scope=col>Course</th><th scope=col>Ccount</th><th scope=col>Dcount</th><th scope=col>Result</th></tr></thead>\n",
       "<tbody>\n",
       "\t<tr><td>Female           </td><td>White            </td><td>No               </td><td>Traditional      </td><td>In-state         </td><td>No               </td><td>First Choice     </td><td>Outside Campus   </td><td>No               </td><td>No               </td><td>Loan Aid         </td><td>4.71             </td><td>6.41             </td><td>30.96            </td><td> 0.40            </td><td>57.53            </td><td>0.98             </td><td>0.13             </td><td>Not Graduated    </td></tr>\n",
       "\t<tr><td>Male             </td><td>White            </td><td>Yes              </td><td>Traditional      </td><td>In-state         </td><td>No               </td><td>Others           </td><td>On Campus        </td><td>No               </td><td>No               </td><td>Loan Aid         </td><td>4.36             </td><td>8.66             </td><td>33.06            </td><td> 7.03            </td><td>92.95            </td><td>1.59             </td><td>0.45             </td><td>Graduated        </td></tr>\n",
       "\t<tr><td>Female           </td><td>White            </td><td>No               </td><td>Traditional      </td><td>In-state         </td><td>Yes              </td><td>Others           </td><td>Outside Campus   </td><td>Yes              </td><td>No               </td><td>Need Aid         </td><td>4.72             </td><td>2.29             </td><td>23.63            </td><td>14.33            </td><td>61.46            </td><td>1.26             </td><td>0.49             </td><td>Not Graduated    </td></tr>\n",
       "\t<tr><td>Female           </td><td>White            </td><td>No               </td><td>Traditional      </td><td>Reciprocity state</td><td>No               </td><td>First Choice     </td><td>Outside Campus   </td><td>No               </td><td>No               </td><td>Loan Aid         </td><td>1.56             </td><td>8.13             </td><td>25.54            </td><td> 5.45            </td><td>67.01            </td><td>0.16             </td><td>0.03             </td><td>Graduated        </td></tr>\n",
       "\t<tr><td>Female           </td><td>White            </td><td>No               </td><td>Traditional      </td><td>In-state         </td><td>No               </td><td>First Choice     </td><td>Outside Campus   </td><td>Yes              </td><td>No               </td><td>Need Aid         </td><td>0.55             </td><td>0.25             </td><td>22.23            </td><td> 7.09            </td><td>97.94            </td><td>1.09             </td><td>0.18             </td><td>Graduated        </td></tr>\n",
       "\t<tr><td>Male             </td><td>White            </td><td>No               </td><td>Traditional      </td><td>Reciprocity state</td><td>No               </td><td>Others           </td><td>On Campus        </td><td>No               </td><td>No               </td><td>Merit Aid        </td><td>0.40             </td><td>0.50             </td><td>28.12            </td><td>13.21            </td><td>97.38            </td><td>0.47             </td><td>0.36             </td><td>Graduated        </td></tr>\n",
       "</tbody>\n",
       "</table>\n"
      ],
      "text/latex": [
       "\\begin{tabular}{r|lllllllllllllllllll}\n",
       " Gender & Race & Generation & Status & Geographic & Remedy & Choice & Living & Community & Athlete & Aidtype & Aidamount & Unmet & ACT & AP & Course & Ccount & Dcount & Result\\\\\n",
       "\\hline\n",
       "\t Female            & White             & No                & Traditional       & In-state          & No                & First Choice      & Outside Campus    & No                & No                & Loan Aid          & 4.71              & 6.41              & 30.96             &  0.40             & 57.53             & 0.98              & 0.13              & Not Graduated    \\\\\n",
       "\t Male              & White             & Yes               & Traditional       & In-state          & No                & Others            & On Campus         & No                & No                & Loan Aid          & 4.36              & 8.66              & 33.06             &  7.03             & 92.95             & 1.59              & 0.45              & Graduated        \\\\\n",
       "\t Female            & White             & No                & Traditional       & In-state          & Yes               & Others            & Outside Campus    & Yes               & No                & Need Aid          & 4.72              & 2.29              & 23.63             & 14.33             & 61.46             & 1.26              & 0.49              & Not Graduated    \\\\\n",
       "\t Female            & White             & No                & Traditional       & Reciprocity state & No                & First Choice      & Outside Campus    & No                & No                & Loan Aid          & 1.56              & 8.13              & 25.54             &  5.45             & 67.01             & 0.16              & 0.03              & Graduated        \\\\\n",
       "\t Female            & White             & No                & Traditional       & In-state          & No                & First Choice      & Outside Campus    & Yes               & No                & Need Aid          & 0.55              & 0.25              & 22.23             &  7.09             & 97.94             & 1.09              & 0.18              & Graduated        \\\\\n",
       "\t Male              & White             & No                & Traditional       & Reciprocity state & No                & Others            & On Campus         & No                & No                & Merit Aid         & 0.40              & 0.50              & 28.12             & 13.21             & 97.38             & 0.47              & 0.36              & Graduated        \\\\\n",
       "\\end{tabular}\n"
      ],
      "text/markdown": [
       "\n",
       "| Gender | Race | Generation | Status | Geographic | Remedy | Choice | Living | Community | Athlete | Aidtype | Aidamount | Unmet | ACT | AP | Course | Ccount | Dcount | Result |\n",
       "|---|---|---|---|---|---|---|---|---|---|---|---|---|---|---|---|---|---|---|\n",
       "| Female            | White             | No                | Traditional       | In-state          | No                | First Choice      | Outside Campus    | No                | No                | Loan Aid          | 4.71              | 6.41              | 30.96             |  0.40             | 57.53             | 0.98              | 0.13              | Not Graduated     |\n",
       "| Male              | White             | Yes               | Traditional       | In-state          | No                | Others            | On Campus         | No                | No                | Loan Aid          | 4.36              | 8.66              | 33.06             |  7.03             | 92.95             | 1.59              | 0.45              | Graduated         |\n",
       "| Female            | White             | No                | Traditional       | In-state          | Yes               | Others            | Outside Campus    | Yes               | No                | Need Aid          | 4.72              | 2.29              | 23.63             | 14.33             | 61.46             | 1.26              | 0.49              | Not Graduated     |\n",
       "| Female            | White             | No                | Traditional       | Reciprocity state | No                | First Choice      | Outside Campus    | No                | No                | Loan Aid          | 1.56              | 8.13              | 25.54             |  5.45             | 67.01             | 0.16              | 0.03              | Graduated         |\n",
       "| Female            | White             | No                | Traditional       | In-state          | No                | First Choice      | Outside Campus    | Yes               | No                | Need Aid          | 0.55              | 0.25              | 22.23             |  7.09             | 97.94             | 1.09              | 0.18              | Graduated         |\n",
       "| Male              | White             | No                | Traditional       | Reciprocity state | No                | Others            | On Campus         | No                | No                | Merit Aid         | 0.40              | 0.50              | 28.12             | 13.21             | 97.38             | 0.47              | 0.36              | Graduated         |\n",
       "\n"
      ],
      "text/plain": [
       "  Gender Race  Generation Status      Geographic        Remedy Choice      \n",
       "1 Female White No         Traditional In-state          No     First Choice\n",
       "2 Male   White Yes        Traditional In-state          No     Others      \n",
       "3 Female White No         Traditional In-state          Yes    Others      \n",
       "4 Female White No         Traditional Reciprocity state No     First Choice\n",
       "5 Female White No         Traditional In-state          No     First Choice\n",
       "6 Male   White No         Traditional Reciprocity state No     Others      \n",
       "  Living         Community Athlete Aidtype   Aidamount Unmet ACT   AP    Course\n",
       "1 Outside Campus No        No      Loan Aid  4.71      6.41  30.96  0.40 57.53 \n",
       "2 On Campus      No        No      Loan Aid  4.36      8.66  33.06  7.03 92.95 \n",
       "3 Outside Campus Yes       No      Need Aid  4.72      2.29  23.63 14.33 61.46 \n",
       "4 Outside Campus No        No      Loan Aid  1.56      8.13  25.54  5.45 67.01 \n",
       "5 Outside Campus Yes       No      Need Aid  0.55      0.25  22.23  7.09 97.94 \n",
       "6 On Campus      No        No      Merit Aid 0.40      0.50  28.12 13.21 97.38 \n",
       "  Ccount Dcount Result       \n",
       "1 0.98   0.13   Not Graduated\n",
       "2 1.59   0.45   Graduated    \n",
       "3 1.26   0.49   Not Graduated\n",
       "4 0.16   0.03   Graduated    \n",
       "5 1.09   0.18   Graduated    \n",
       "6 0.47   0.36   Graduated    "
      ]
     },
     "metadata": {},
     "output_type": "display_data"
    }
   ],
   "source": [
    "showcase2<- data.table(data2)\n",
    "showcase2[sample(.N, 6)]"
   ]
  },
  {
   "cell_type": "markdown",
   "metadata": {},
   "source": [
    "\n",
    "<em>Variables explaination for DGP2:</em>                                                                            \n",
    "<br>\n",
    "\n",
    "|Variables   |Type       |Explaination                                                                                       |\n",
    "|------------|-----------|---------------------------------------------------------------------------------------------------|\n",
    "|Gender      |Categorical|Male or female                                                                                     |\n",
    "|Race        |Categorical|Which race is the student from, including White, Asian, and other Minorities\t                     |\n",
    "|Generation  |Categorical|Denotes if the student is the first generation in the family to attend university or not           |\n",
    "|Status\t     |Categorical|Whether the student is younger than 19 on the first day of enrolment in the university             |\n",
    "|Geographic  |Categorical|Details if the students are from specific states                                                   |\n",
    "|Remedy      |Categorical|Shows if the student takes remedial courses or nnot                                                |\n",
    "|Choice      |Categorical|If the observed university is the students' first choice of university or not                      |\n",
    "|Living      |Categorical|Where the student live: Outside Campus or on Campus                                                |\n",
    "|Community   |Categorical|If the student is participating in community activities                                            |\n",
    "|Athlete     |Categorical|If the student is considered as an athlete representitive for the university                       |\n",
    "|Aidtype     |Categorical|Which type of financial aid the student gets, including: None, Loan, Need, and Merit               |\n",
    "|Aidamount   |Numerical  |The amount (in \\$1000 USD) that corresponds to the Aidtype, notice for none it is always 0         |\n",
    "|Unmet       |Numerical  |The amount (in \\$1000 USD) of unmet financial needs that the students get after the Aid            |\n",
    "|ACT         |Numerical  |The score the student gets for composite American College Test (ACT)                               |\n",
    "|AP          |Numerical  |Number of Advanced Placement credit                                                                |\n",
    "|Course      |Numerical  |Course completion rate during the first semester                                                   |\n",
    "|Ccount      |Numerical  |Amount of C counts with the maxium given 5                                                         |\n",
    "|Dcount      |Numerical  |Amount of D counts with the maxium given 4                                                         |\n",
    "|Result      |Categorical|The end result correspond to the paper: Graduated, Transferred then graduated, or Not Graduated    |"
   ]
  },
  {
   "cell_type": "markdown",
   "metadata": {},
   "source": [
    "### 2.2. Mechanisms and Expectations"
   ]
  },
  {
   "cell_type": "markdown",
   "metadata": {},
   "source": []
  },
  {
   "cell_type": "code",
   "execution_count": null,
   "metadata": {},
   "outputs": [],
   "source": []
  },
  {
   "cell_type": "markdown",
   "metadata": {},
   "source": []
  },
  {
   "cell_type": "code",
   "execution_count": null,
   "metadata": {},
   "outputs": [],
   "source": []
  },
  {
   "cell_type": "code",
   "execution_count": null,
   "metadata": {},
   "outputs": [],
   "source": []
  },
  {
   "cell_type": "markdown",
   "metadata": {},
   "source": [
    "\n",
    "\n",
    "\n",
    "\n",
    "\n",
    "\n",
    "\n",
    "\n",
    "\n",
    "\n",
    "\n",
    "\n",
    "\n",
    "\n",
    "\n",
    "\n"
   ]
  },
  {
   "cell_type": "markdown",
   "metadata": {},
   "source": [
    "We expect that"
   ]
  },
  {
   "cell_type": "markdown",
   "metadata": {},
   "source": [
    "## 3. Algorithm Evaluation"
   ]
  },
  {
   "cell_type": "markdown",
   "metadata": {},
   "source": [
    "In this cha"
   ]
  },
  {
   "cell_type": "code",
   "execution_count": null,
   "metadata": {},
   "outputs": [],
   "source": [
    "algorithm: CART"
   ]
  },
  {
   "cell_type": "code",
   "execution_count": null,
   "metadata": {},
   "outputs": [],
   "source": [
    "SOME  OTHER SHIT REGARDING C4.5"
   ]
  },
  {
   "cell_type": "code",
   "execution_count": null,
   "metadata": {},
   "outputs": [],
   "source": [
    "algorithm:c4.5 with J48"
   ]
  },
  {
   "cell_type": "code",
   "execution_count": null,
   "metadata": {},
   "outputs": [],
   "source": []
  },
  {
   "cell_type": "code",
   "execution_count": 9,
   "metadata": {},
   "outputs": [
    {
     "data": {
      "image/png": "[encoded data removed]",
      "text/plain": [
       "plot without title"
      ]
     },
     "metadata": {},
     "output_type": "display_data"
    }
   ],
   "source": [
    "c4<- ctree(Result ~ ., data2)\n",
    "plot(c4)"
   ]
  },
  {
   "cell_type": "markdown",
   "metadata": {},
   "source": [
    "Benchmark accuracy/ also give ratings"
   ]
  },
  {
   "cell_type": "markdown",
   "metadata": {},
   "source": [
    "## 4. Conclusion"
   ]
  },
  {
   "cell_type": "markdown",
   "metadata": {},
   "source": [
    "we can see that ....\n",
    "\n",
    "\n",
    "\n",
    "additional chapter (Cruise):\n",
    "addition since the package is not avaliable in r, one must download the algorithm manually from the ... website."
   ]
  },
  {
   "cell_type": "markdown",
   "metadata": {},
   "source": [
    "## Reference <a id='Ref'></a>"
   ]
  },
  {
   "cell_type": "markdown",
   "metadata": {},
   "source": [
    "\n",
    "\n",
    "Jones-White, D. R., Radcliffe, P. M., Lorenz, L. M., & Soria, K. M. (2014). Priced out?. Research in Higher Education, 55(4), 329-350.\n",
    "\n",
    "Loh, W. Y. (2014). Classification and regression tree methods. Wiley StatsRef: Statistics Reference Online.\n",
    "\n",
    "Loh, W. Y., & Shih, Y. S. (1997). Split selection methods for classification trees. Statistica sinica, 815-840.\n",
    "\n",
    "Tian, S., Hu, N., Lou, J., Chen, K., Kang, X., Xiang, Z., ... & Chen, G. (2020). Characteristics of COVID-19 infection in Beijing. Journal of Infection."
   ]
  },
  {
   "cell_type": "markdown",
   "metadata": {},
   "source": [
    "maybe useful code:\n",
    "\n",
    "<table><tr>\n",
    "<thead>\n",
    " <tr><th>Descriptive Statistics 1 (DGP1)</th><th>Descriptive Statistics 2 (DGP2)</th></tr>   \n",
    "</thead>\n",
    "    \n",
    "<tbody>\n",
    "    \n",
    " <tr><td> <img src=\"Pics/DGP1.png\"> </td><td> <img src=\"Pics/DGP2.png\"> </td></tr>\n",
    "\n",
    "</tbody>\n",
    "</table>"
   ]
  }
 ],
 "metadata": {
  "kernelspec": {
   "display_name": "R",
   "language": "R",
   "name": "ir"
  },
  "language_info": {
   "codemirror_mode": "r",
   "file_extension": ".r",
   "mimetype": "text/x-r-source",
   "name": "R",
   "pygments_lexer": "r",
   "version": "3.6.1"
  }
 },
 "nbformat": 4,
 "nbformat_minor": 4
}
