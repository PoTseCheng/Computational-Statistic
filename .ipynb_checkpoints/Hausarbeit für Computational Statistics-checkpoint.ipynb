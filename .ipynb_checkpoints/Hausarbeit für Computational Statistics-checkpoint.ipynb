{
 "cells": [
  {
   "cell_type": "markdown",
   "metadata": {},
   "source": [
    "Course: Computational Statistics | SS2020 | University of Bonn\n",
    "# Topic: Comparison in algorithms for Classification Tree\n",
    "\n",
    "Author: Po-Tse Cheng"
   ]
  },
  {
   "cell_type": "markdown",
   "metadata": {},
   "source": [
    "maybe add some structure here? (see if we got enough space)"
   ]
  },
  {
   "cell_type": "code",
   "execution_count": 5,
   "metadata": {},
   "outputs": [
    {
     "name": "stderr",
     "output_type": "stream",
     "text": [
      "Installing packages into 'C:/Users/Viktor Cheng/Documents/R/win-library/3.6'\n",
      "(as 'lib' is unspecified)\n"
     ]
    },
    {
     "name": "stdout",
     "output_type": "stream",
     "text": [
      "\n",
      "  There is a binary version available but the source version is later:\n",
      "      binary source needs_compilation\n",
      "RWeka 0.4-42 0.4-43             FALSE\n",
      "\n"
     ]
    },
    {
     "name": "stderr",
     "output_type": "stream",
     "text": [
      "Warning message:\n",
      "\"packages 'partykit', 'rpart', 'truncnorm', 'wakefield', 'data.table' are in use and will not be installed\""
     ]
    },
    {
     "name": "stdout",
     "output_type": "stream",
     "text": [
      "package 'remotes' successfully unpacked and MD5 sums checked\n",
      "\n",
      "The downloaded binary packages are in\n",
      "\tC:\\Users\\Viktor Cheng\\AppData\\Local\\Temp\\RtmpuAN6JS\\downloaded_packages\n"
     ]
    },
    {
     "name": "stderr",
     "output_type": "stream",
     "text": [
      "installing the source package 'RWeka'\n",
      "\n",
      "Warning message in install.packages(c(\"partykit\", \"RWeka\", \"rpart\", \"truncnorm\", :\n",
      "\"installation of package 'RWeka' had non-zero exit status\""
     ]
    }
   ],
   "source": [
    "#install packages in need\n",
    "install.packages(c(\"partykit\", \"RWeka\", \"rpart\", \"truncnorm\", \"remotes\",\"wakefield\", \"partykit\", \"data.table\"))\n",
    "\n",
    "#initial the packages require for the projects:\n",
    "library(wakefield)\n",
    "library(partykit)\n",
    "library(truncnorm)\n",
    "library(rpart)\n",
    "library(RWeka)\n",
    "library(partykit)\n",
    "library(data.table)\n",
    "\n",
    "#import the custom DGP function from R codes in the repository\n",
    "source(\"R codes/DGP.R\")\n",
    "\n",
    "#supress unwanted warning in loading packages\n",
    "#options(warn=-1)\n",
    "#do this in the end"
   ]
  },
  {
   "cell_type": "markdown",
   "metadata": {},
   "source": [
    "## 1. Introduction"
   ]
  },
  {
   "cell_type": "markdown",
   "metadata": {},
   "source": [
    "The main purpose of this notebook is to showcase the strengh and weekness of different algorithms in classification tree, in particular, the decision making mechanism behind the splits between nodes. The motivation behind this attempt is to understand each individual splitting methods more thoroughly, as within the courses\n",
    "\n",
    "\n",
    "Two seperate DGPs with different characteristics will be utilised to help evaulate the algorithms. In total 3( if got time 4) will be discussed:\n",
    "<ul>\n",
    "    <li>Classification and Regression Trees (CART)</li>\n",
    "    <li>C4.5</li>\n",
    "    <li>Conditional Inference Trees (Ctree)</li>\n",
    "</ul>\n",
    "\n",
    "The most direct algorithm for determining a split is the <em>Gini Index</em>, which is employed by CART. C4.5 uses the <em>Shannon Entropy </em>method which in some sense is simliar to Gini Index. Lastly, Ctree incoporates the <em>Chi-square test</em> to determine the split. In this notebook,  we will be using the rpart package for CART algorithm, rweka for J48, and finally partykit package for Ctree. \n",
    "\n",
    "This notebook is also constructed in the following way: in the second chapter we will take a look at the two DGPs including personal assumptions and the mechanism of each algorithms. Section 3 is using the examples "
   ]
  },
  {
   "cell_type": "markdown",
   "metadata": {},
   "source": []
  },
  {
   "cell_type": "markdown",
   "metadata": {},
   "source": [
    "\n",
    "\n",
    "<div class=\"alert alert-block alert-info\">\n",
    "    <b>Additional Note:</b> The DGP functions are quite long, therefore I decided to import it from the repository. For the sake of transparency, please <a href=\"https://github.com/PoTseCheng/Computational-Statistic/blob/master/R%20codes/DGP.R\">click here</a> to evaluate the code. \n",
    "    \n",
    "</div>"
   ]
  },
  {
   "cell_type": "markdown",
   "metadata": {},
   "source": [
    "## 2. DGPs and Theoretical Perspectives"
   ]
  },
  {
   "cell_type": "markdown",
   "metadata": {},
   "source": [
    "### 2.1. Data Generating Procedures"
   ]
  },
  {
   "cell_type": "markdown",
   "metadata": {},
   "source": [
    "In this section we will be going through the two main DGPs: The first one came from Tian et al.(2020) from Journal of Infection, while the second one is from Jones-White et al.(2014) published in Research in Higher Education. The first paper analysed the symptoms of COVID-19 and the consequences of all 262 cases. Furthermore, the 262 cases were splitted into 2 subgroups by clinical perspective. The other paper aims to establish a connection between financial aids and students' college outcomes. \n",
    "\n",
    "\n",
    "Below is a short summary of data from the original papers:"
   ]
  },
  {
   "cell_type": "markdown",
   "metadata": {},
   "source": [
    "<table><tr>\n",
    "<thead>\n",
    " <tr><th>Description Statistics 1</th><th>Description Statistics 2</th></tr>   \n",
    "</thead>\n",
    "    \n",
    "<tbody>\n",
    "    \n",
    " <tr><td> <img src=\"Pics/DGP1.png\"> </td><td> <img src=\"Pics/DGP2.png\"> </td></tr>\n",
    "\n",
    "</tbody>\n",
    "</table>"
   ]
  },
  {
   "cell_type": "markdown",
   "metadata": {},
   "source": [
    "These two papers were intentionally selected as they incorporated different types of data. \n",
    "\n",
    "For the first paper, no correlations between all variables, rather cases were immidiately splitted into sever\n",
    "\n",
    "Below are the tables for \n",
    "\n",
    "|Variables   |Type       |Explaination                                                                                  |\n",
    "|------------|-----------|----------------------------------------------------------------------------------------------|\n",
    "|Severity    |Categorical|This variable determines if a patient is diagnosed as a severe case                           |\n",
    "|Gender      |Categorical|Male or female                                                                                |\n",
    "|Age         |Numerical  |Age                                                                                           |\n",
    "|Address     |Numerical  |Where the patient lives                                                                       |\n",
    "|Contact     |Categorical|Have the patient been in contact with anyone from Wuhan or any infected cases within 14 days  |\n",
    "|Temperature |Numerical  |Body temerature measured during diagnosis                                                     |\n",
    "|Tlabel      |Numerical  |Label correspond to temperature, including: Normal, Fever, and Hyperpyrexia                   |\n",
    "|Symptoms    |Numerical  |Symptoms including Coughing, Fatigue, Dyspnea, Headache (Without fever)                       |\n",
    "|Result      |Categorical|Three categories: discharge, further hospitalization, death                                   |\n",
    "\n",
    "\n",
    "\n",
    "\n",
    "\n",
    "|Variables   |Type       |Explaination                                                                                       |\n",
    "|------------|-----------|---------------------------------------------------------------------------------------------------|\n",
    "|Gender      |Categorical|Male or female                                                                                     |\n",
    "|Race        |Categorical|Which race is the student from, including White, Asian, and other Minorities\t                     |\n",
    "|Generation  |Categorical|Denotes if the student is the first generation in the family to attend university or not           |\n",
    "|Status\t     |Categorical|Whether the student is younger than 19 on the first day of enrolment in the university             |\n",
    "|Geographic  |Categorical|Details if the students are from specific states                                                   |\n",
    "|Remedy      |Categorical|Shows if the student takes remedial courses or nnot                                                |\n",
    "|Choice      |Categorical|If the observed university is the students' first choice of university or not                      |\n",
    "|Living      |Categorical|Where the student live: Outside Campus or on Campus                                                |\n",
    "|Community   |Categorical|If the student is participating in community activities                                            |\n",
    "|Athlete     |Categorical|If the student is considered as an athlete representitive for the university                       |\n",
    "|Aidtype     |Categorical|Which type of financial aid the student gets, including: None, Loan, Need, and Merit               |\n",
    "|Aidamount   |Numerical  |The amount (in \\$1000 USD) that corresponds to the Aidtype, notice for none it is always 0         |\n",
    "|Unmet       |Numerical  |The amount (in \\$1000 USD) of unmet financial needs that the students get after the Aid            |\n",
    "|ACT         |Numerical  |The score the student gets for composite American College Test (ACT)                               |\n",
    "|AP          |Numerical  |Number of Advanced Placement credit                                                                |\n",
    "|Course      |Numerical  |Course completion rate during the first semester                                                   |\n",
    "|Ccount      |Numerical  |Amount of C counts with the maxium given 5                                                         |\n",
    "|Dcount      |Numerical  |Amount of D counts with the maxium given 4                                                         |\n",
    "|Result      |Categorical|The end result correspond to the paper: Graduated, Transferred then graduated, or Not Graduated    |\n",
    "\n",
    "Here are the assumptions and made regarding first DGP:\n",
    "\n",
    "<ol>\n",
    "<li>I assume each individual symptoms are independent with each other. This may not be true in terms of medical science, however, it lessens the complexity of the model immensly. Body temperature on the other hand are connected with the Tlabel, which </li>\n",
    "    \n",
    "<li>The results of the patiences are also <strong>not correlated</strong> with all other symptoms. This is also the main difference of this DGP with the other one. </li>\n",
    "    \n",
    "    \n",
    "</ol>"
   ]
  },
  {
   "cell_type": "markdown",
   "metadata": {},
   "source": [
    "Below are a small portion of generated data from our DGP. Showcase1 denotes the samples from DGP1 and Showcase2 from DGP2."
   ]
  },
  {
   "cell_type": "code",
   "execution_count": 6,
   "metadata": {},
   "outputs": [],
   "source": [
    "set.seed(123)\n",
    "data1<- Observations(100)\n",
    "data2<- Observations2(100)"
   ]
  },
  {
   "cell_type": "code",
   "execution_count": 7,
   "metadata": {},
   "outputs": [
    {
     "data": {
      "text/html": [
       "<table>\n",
       "<thead><tr><th scope=col>Severity</th><th scope=col>Gender</th><th scope=col>Age</th><th scope=col>Address</th><th scope=col>Contact</th><th scope=col>Temperature</th><th scope=col>Tlabel</th><th scope=col>Symptoms</th><th scope=col>Result</th></tr></thead>\n",
       "<tbody>\n",
       "\t<tr><td>0                </td><td>Female           </td><td>57               </td><td>Beijin           </td><td>Case 14 days     </td><td>37.35            </td><td>Normal           </td><td>Coughing, Fatigue</td><td>Hospitalization  </td></tr>\n",
       "\t<tr><td>0                </td><td>Female           </td><td>62               </td><td>Wuhan            </td><td>Unknown          </td><td>38.58            </td><td>Fever            </td><td>No Other Symptoms</td><td>Hospitalization  </td></tr>\n",
       "\t<tr><td>0                </td><td>Male             </td><td>45               </td><td>Beijin           </td><td>Case 14 days     </td><td>38.43            </td><td>Fever            </td><td>No Other Symptoms</td><td>Hospitalization  </td></tr>\n",
       "\t<tr><td>1                </td><td>Female           </td><td>27               </td><td>Beijin           </td><td>Case 14 days     </td><td>36.59            </td><td>Normal           </td><td>Coughing, Fatigue</td><td>Hospitalization  </td></tr>\n",
       "\t<tr><td>0                </td><td>Female           </td><td>32               </td><td>Beijin           </td><td>Wuhan 14 days    </td><td>37.37            </td><td>Normal           </td><td>No Other Symptoms</td><td>Hospitalization  </td></tr>\n",
       "\t<tr><td>0                </td><td>Female           </td><td>23               </td><td>Other            </td><td>Wuhan 14 days    </td><td>37.52            </td><td>Fever            </td><td>Coughing, Fatigue</td><td>Hospitalization  </td></tr>\n",
       "</tbody>\n",
       "</table>\n"
      ],
      "text/latex": [
       "\\begin{tabular}{r|lllllllll}\n",
       " Severity & Gender & Age & Address & Contact & Temperature & Tlabel & Symptoms & Result\\\\\n",
       "\\hline\n",
       "\t 0                 & Female            & 57                & Beijin            & Case 14 days      & 37.35             & Normal            & Coughing, Fatigue & Hospitalization  \\\\\n",
       "\t 0                 & Female            & 62                & Wuhan             & Unknown           & 38.58             & Fever             & No Other Symptoms & Hospitalization  \\\\\n",
       "\t 0                 & Male              & 45                & Beijin            & Case 14 days      & 38.43             & Fever             & No Other Symptoms & Hospitalization  \\\\\n",
       "\t 1                 & Female            & 27                & Beijin            & Case 14 days      & 36.59             & Normal            & Coughing, Fatigue & Hospitalization  \\\\\n",
       "\t 0                 & Female            & 32                & Beijin            & Wuhan 14 days     & 37.37             & Normal            & No Other Symptoms & Hospitalization  \\\\\n",
       "\t 0                 & Female            & 23                & Other             & Wuhan 14 days     & 37.52             & Fever             & Coughing, Fatigue & Hospitalization  \\\\\n",
       "\\end{tabular}\n"
      ],
      "text/markdown": [
       "\n",
       "| Severity | Gender | Age | Address | Contact | Temperature | Tlabel | Symptoms | Result |\n",
       "|---|---|---|---|---|---|---|---|---|\n",
       "| 0                 | Female            | 57                | Beijin            | Case 14 days      | 37.35             | Normal            | Coughing, Fatigue | Hospitalization   |\n",
       "| 0                 | Female            | 62                | Wuhan             | Unknown           | 38.58             | Fever             | No Other Symptoms | Hospitalization   |\n",
       "| 0                 | Male              | 45                | Beijin            | Case 14 days      | 38.43             | Fever             | No Other Symptoms | Hospitalization   |\n",
       "| 1                 | Female            | 27                | Beijin            | Case 14 days      | 36.59             | Normal            | Coughing, Fatigue | Hospitalization   |\n",
       "| 0                 | Female            | 32                | Beijin            | Wuhan 14 days     | 37.37             | Normal            | No Other Symptoms | Hospitalization   |\n",
       "| 0                 | Female            | 23                | Other             | Wuhan 14 days     | 37.52             | Fever             | Coughing, Fatigue | Hospitalization   |\n",
       "\n"
      ],
      "text/plain": [
       "  Severity Gender Age Address Contact       Temperature Tlabel\n",
       "1 0        Female 57  Beijin  Case 14 days  37.35       Normal\n",
       "2 0        Female 62  Wuhan   Unknown       38.58       Fever \n",
       "3 0        Male   45  Beijin  Case 14 days  38.43       Fever \n",
       "4 1        Female 27  Beijin  Case 14 days  36.59       Normal\n",
       "5 0        Female 32  Beijin  Wuhan 14 days 37.37       Normal\n",
       "6 0        Female 23  Other   Wuhan 14 days 37.52       Fever \n",
       "  Symptoms          Result         \n",
       "1 Coughing, Fatigue Hospitalization\n",
       "2 No Other Symptoms Hospitalization\n",
       "3 No Other Symptoms Hospitalization\n",
       "4 Coughing, Fatigue Hospitalization\n",
       "5 No Other Symptoms Hospitalization\n",
       "6 Coughing, Fatigue Hospitalization"
      ]
     },
     "metadata": {},
     "output_type": "display_data"
    }
   ],
   "source": [
    "showcase1<- data.table(data1)\n",
    "showcase1[sample(.N, 6)]"
   ]
  },
  {
   "cell_type": "code",
   "execution_count": 8,
   "metadata": {},
   "outputs": [
    {
     "data": {
      "text/html": [
       "<table>\n",
       "<thead><tr><th scope=col>Gender</th><th scope=col>Race</th><th scope=col>Generation</th><th scope=col>Status</th><th scope=col>Geographic</th><th scope=col>Remedy</th><th scope=col>Choice</th><th scope=col>Living</th><th scope=col>Community</th><th scope=col>Athlete</th><th scope=col>Aidtype</th><th scope=col>Aidamount</th><th scope=col>Unmet</th><th scope=col>ACT</th><th scope=col>AP</th><th scope=col>Course</th><th scope=col>Ccount</th><th scope=col>Dcount</th><th scope=col>Result</th></tr></thead>\n",
       "<tbody>\n",
       "\t<tr><td>Male                 </td><td>White                </td><td>Yes                  </td><td>Traditional          </td><td>Reciprocity state    </td><td>No                   </td><td>First Choice         </td><td>Outside Campus       </td><td>No                   </td><td>No                   </td><td>Loan Aid             </td><td>0.53                 </td><td> 5.12                </td><td>21.36                </td><td>13.63                </td><td>80.40                </td><td>1.12                 </td><td>0.32                 </td><td>Graduated            </td></tr>\n",
       "\t<tr><td>Male                 </td><td>White                </td><td>No                   </td><td>Traditional          </td><td>Reciprocity state    </td><td>No                   </td><td>First Choice         </td><td>On Campus            </td><td>Yes                  </td><td>No                   </td><td>Need Aid             </td><td>1.20                 </td><td> 4.55                </td><td>25.36                </td><td> 0.87                </td><td>97.04                </td><td>0.49                 </td><td>0.48                 </td><td>Graduated            </td></tr>\n",
       "\t<tr><td>Female               </td><td>Minorities           </td><td>Yes                  </td><td>Traditional          </td><td>In-state             </td><td>No                   </td><td>First Choice         </td><td>On Campus            </td><td>No                   </td><td>No                   </td><td>Loan Aid             </td><td>2.39                 </td><td>11.67                </td><td>31.18                </td><td>10.15                </td><td>97.34                </td><td>1.88                 </td><td>0.31                 </td><td>Transferred Graduated</td></tr>\n",
       "\t<tr><td>Female               </td><td>White                </td><td>No                   </td><td>Traditional          </td><td>Reciprocity state    </td><td>No                   </td><td>Others               </td><td>Outside Campus       </td><td>No                   </td><td>No                   </td><td>Loan Aid             </td><td>0.10                 </td><td> 4.06                </td><td>30.59                </td><td> 5.89                </td><td>74.35                </td><td>0.56                 </td><td>0.20                 </td><td>Graduated            </td></tr>\n",
       "\t<tr><td>Female               </td><td>White                </td><td>No                   </td><td>Traditional          </td><td>In-state             </td><td>No                   </td><td>First Choice         </td><td>Outside Campus       </td><td>No                   </td><td>No                   </td><td>Loan Aid             </td><td>4.35                 </td><td> 0.31                </td><td>19.70                </td><td> 6.28                </td><td>78.84                </td><td>2.41                 </td><td>0.14                 </td><td>Graduated            </td></tr>\n",
       "\t<tr><td>Male                 </td><td>White                </td><td>No                   </td><td>Traditional          </td><td>Reciprocity state    </td><td>No                   </td><td>Others               </td><td>On Campus            </td><td>No                   </td><td>No                   </td><td>Merit Aid            </td><td>0.40                 </td><td> 0.50                </td><td>28.12                </td><td>13.21                </td><td>97.38                </td><td>0.47                 </td><td>0.36                 </td><td>Graduated            </td></tr>\n",
       "</tbody>\n",
       "</table>\n"
      ],
      "text/latex": [
       "\\begin{tabular}{r|lllllllllllllllllll}\n",
       " Gender & Race & Generation & Status & Geographic & Remedy & Choice & Living & Community & Athlete & Aidtype & Aidamount & Unmet & ACT & AP & Course & Ccount & Dcount & Result\\\\\n",
       "\\hline\n",
       "\t Male                  & White                 & Yes                   & Traditional           & Reciprocity state     & No                    & First Choice          & Outside Campus        & No                    & No                    & Loan Aid              & 0.53                  &  5.12                 & 21.36                 & 13.63                 & 80.40                 & 1.12                  & 0.32                  & Graduated            \\\\\n",
       "\t Male                  & White                 & No                    & Traditional           & Reciprocity state     & No                    & First Choice          & On Campus             & Yes                   & No                    & Need Aid              & 1.20                  &  4.55                 & 25.36                 &  0.87                 & 97.04                 & 0.49                  & 0.48                  & Graduated            \\\\\n",
       "\t Female                & Minorities            & Yes                   & Traditional           & In-state              & No                    & First Choice          & On Campus             & No                    & No                    & Loan Aid              & 2.39                  & 11.67                 & 31.18                 & 10.15                 & 97.34                 & 1.88                  & 0.31                  & Transferred Graduated\\\\\n",
       "\t Female                & White                 & No                    & Traditional           & Reciprocity state     & No                    & Others                & Outside Campus        & No                    & No                    & Loan Aid              & 0.10                  &  4.06                 & 30.59                 &  5.89                 & 74.35                 & 0.56                  & 0.20                  & Graduated            \\\\\n",
       "\t Female                & White                 & No                    & Traditional           & In-state              & No                    & First Choice          & Outside Campus        & No                    & No                    & Loan Aid              & 4.35                  &  0.31                 & 19.70                 &  6.28                 & 78.84                 & 2.41                  & 0.14                  & Graduated            \\\\\n",
       "\t Male                  & White                 & No                    & Traditional           & Reciprocity state     & No                    & Others                & On Campus             & No                    & No                    & Merit Aid             & 0.40                  &  0.50                 & 28.12                 & 13.21                 & 97.38                 & 0.47                  & 0.36                  & Graduated            \\\\\n",
       "\\end{tabular}\n"
      ],
      "text/markdown": [
       "\n",
       "| Gender | Race | Generation | Status | Geographic | Remedy | Choice | Living | Community | Athlete | Aidtype | Aidamount | Unmet | ACT | AP | Course | Ccount | Dcount | Result |\n",
       "|---|---|---|---|---|---|---|---|---|---|---|---|---|---|---|---|---|---|---|\n",
       "| Male                  | White                 | Yes                   | Traditional           | Reciprocity state     | No                    | First Choice          | Outside Campus        | No                    | No                    | Loan Aid              | 0.53                  |  5.12                 | 21.36                 | 13.63                 | 80.40                 | 1.12                  | 0.32                  | Graduated             |\n",
       "| Male                  | White                 | No                    | Traditional           | Reciprocity state     | No                    | First Choice          | On Campus             | Yes                   | No                    | Need Aid              | 1.20                  |  4.55                 | 25.36                 |  0.87                 | 97.04                 | 0.49                  | 0.48                  | Graduated             |\n",
       "| Female                | Minorities            | Yes                   | Traditional           | In-state              | No                    | First Choice          | On Campus             | No                    | No                    | Loan Aid              | 2.39                  | 11.67                 | 31.18                 | 10.15                 | 97.34                 | 1.88                  | 0.31                  | Transferred Graduated |\n",
       "| Female                | White                 | No                    | Traditional           | Reciprocity state     | No                    | Others                | Outside Campus        | No                    | No                    | Loan Aid              | 0.10                  |  4.06                 | 30.59                 |  5.89                 | 74.35                 | 0.56                  | 0.20                  | Graduated             |\n",
       "| Female                | White                 | No                    | Traditional           | In-state              | No                    | First Choice          | Outside Campus        | No                    | No                    | Loan Aid              | 4.35                  |  0.31                 | 19.70                 |  6.28                 | 78.84                 | 2.41                  | 0.14                  | Graduated             |\n",
       "| Male                  | White                 | No                    | Traditional           | Reciprocity state     | No                    | Others                | On Campus             | No                    | No                    | Merit Aid             | 0.40                  |  0.50                 | 28.12                 | 13.21                 | 97.38                 | 0.47                  | 0.36                  | Graduated             |\n",
       "\n"
      ],
      "text/plain": [
       "  Gender Race       Generation Status      Geographic        Remedy\n",
       "1 Male   White      Yes        Traditional Reciprocity state No    \n",
       "2 Male   White      No         Traditional Reciprocity state No    \n",
       "3 Female Minorities Yes        Traditional In-state          No    \n",
       "4 Female White      No         Traditional Reciprocity state No    \n",
       "5 Female White      No         Traditional In-state          No    \n",
       "6 Male   White      No         Traditional Reciprocity state No    \n",
       "  Choice       Living         Community Athlete Aidtype   Aidamount Unmet ACT  \n",
       "1 First Choice Outside Campus No        No      Loan Aid  0.53       5.12 21.36\n",
       "2 First Choice On Campus      Yes       No      Need Aid  1.20       4.55 25.36\n",
       "3 First Choice On Campus      No        No      Loan Aid  2.39      11.67 31.18\n",
       "4 Others       Outside Campus No        No      Loan Aid  0.10       4.06 30.59\n",
       "5 First Choice Outside Campus No        No      Loan Aid  4.35       0.31 19.70\n",
       "6 Others       On Campus      No        No      Merit Aid 0.40       0.50 28.12\n",
       "  AP    Course Ccount Dcount Result               \n",
       "1 13.63 80.40  1.12   0.32   Graduated            \n",
       "2  0.87 97.04  0.49   0.48   Graduated            \n",
       "3 10.15 97.34  1.88   0.31   Transferred Graduated\n",
       "4  5.89 74.35  0.56   0.20   Graduated            \n",
       "5  6.28 78.84  2.41   0.14   Graduated            \n",
       "6 13.21 97.38  0.47   0.36   Graduated            "
      ]
     },
     "metadata": {},
     "output_type": "display_data"
    }
   ],
   "source": [
    "showcase2<- data.table(data2)\n",
    "showcase2[sample(.N, 6)]"
   ]
  },
  {
   "cell_type": "markdown",
   "metadata": {},
   "source": [
    "### 2.2. Mechanisms and Expectations"
   ]
  },
  {
   "cell_type": "markdown",
   "metadata": {},
   "source": [
    "\n",
    "\n",
    "\n",
    "\n",
    "\n",
    "\n",
    "\n",
    "\n",
    "\n",
    "\n",
    "\n",
    "\n",
    "\n",
    "\n",
    "\n",
    "\n"
   ]
  },
  {
   "cell_type": "markdown",
   "metadata": {},
   "source": [
    "We expect that"
   ]
  },
  {
   "cell_type": "markdown",
   "metadata": {},
   "source": [
    "## Algorithm Evaluation"
   ]
  },
  {
   "cell_type": "markdown",
   "metadata": {},
   "source": [
    "In this cha"
   ]
  },
  {
   "cell_type": "code",
   "execution_count": null,
   "metadata": {},
   "outputs": [],
   "source": [
    "algorithm: CART"
   ]
  },
  {
   "cell_type": "code",
   "execution_count": null,
   "metadata": {},
   "outputs": [],
   "source": [
    "SOME  OTHER SHIT REGARDING C4.5"
   ]
  },
  {
   "cell_type": "code",
   "execution_count": null,
   "metadata": {},
   "outputs": [],
   "source": [
    "algorithm:c4.5 with J48"
   ]
  },
  {
   "cell_type": "code",
   "execution_count": null,
   "metadata": {},
   "outputs": [],
   "source": []
  },
  {
   "cell_type": "code",
   "execution_count": null,
   "metadata": {},
   "outputs": [],
   "source": [
    "CTree"
   ]
  },
  {
   "cell_type": "markdown",
   "metadata": {},
   "source": [
    "Benchmark accuracy/ also give ratings"
   ]
  },
  {
   "cell_type": "code",
   "execution_count": null,
   "metadata": {},
   "outputs": [],
   "source": []
  },
  {
   "cell_type": "markdown",
   "metadata": {},
   "source": [
    "additional chapter (Cruise):\n",
    "addition since the package is not avaliable in r, one must download the algorithm manually from the ... website."
   ]
  },
  {
   "cell_type": "markdown",
   "metadata": {},
   "source": [
    "Reference:\n",
    "\n",
    "Jones-White, D. R., Radcliffe, P. M., Lorenz, L. M., & Soria, K. M. (2014). Priced out?. Research in Higher Education, 55(4), 329-350.\n",
    "\n",
    "Loh, W. Y. (2014). Classification and regression tree methods. Wiley StatsRef: Statistics Reference Online.\n",
    "\n",
    "Loh, W. Y., & Shih, Y. S. (1997). Split selection methods for classification trees. Statistica sinica, 815-840.\n",
    "\n",
    "Tian, S., Hu, N., Lou, J., Chen, K., Kang, X., Xiang, Z., ... & Chen, G. (2020). Characteristics of COVID-19 infection in Beijing. Journal of Infection."
   ]
  }
 ],
 "metadata": {
  "kernelspec": {
   "display_name": "R",
   "language": "R",
   "name": "ir"
  },
  "language_info": {
   "codemirror_mode": "r",
   "file_extension": ".r",
   "mimetype": "text/x-r-source",
   "name": "R",
   "pygments_lexer": "r",
   "version": "3.6.1"
  }
 },
 "nbformat": 4,
 "nbformat_minor": 4
}
