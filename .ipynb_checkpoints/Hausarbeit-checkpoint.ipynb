{
 "cells": [
  {
   "cell_type": "markdown",
   "metadata": {},
   "source": [
    "Course: Computational Statistics | SS2020 | University of Bonn\n",
    "# Topic: Algorithms of Classification Tree\n",
    "\n",
    "<em>Author: Po-Tse Cheng (Viktor Cheng)</em>"
   ]
  },
  {
   "cell_type": "markdown",
   "metadata": {},
   "source": [
    "### **Table of Content**\n",
    "---\n",
    "\n",
    "**1. [Introduction](#chap1)**  <a id='top'></a>  \n",
    "    \n",
    "**2. [DGPs and Theoretical Perspectives](#chap2)**\n",
    "    \n",
    "$\\quad$ **2.1** [Data Generating Procedures](#chap2.1)\n",
    "\n",
    "$\\qquad$ **2.1.1** [Tian et al.(2020) DGP](#chap2.1.1)\n",
    "\n",
    "$\\qquad$ **2.1.2** [Jones-White et al.(2014) DGP](#chap2.1.2)\n",
    "\n",
    "$\\quad$ **2.2** [Mechanisms and Limitations](#chap2.2)\n",
    "\n",
    "$\\qquad$ **2.2.1** [CART](#chap2.2.1)\n",
    "\n",
    "$\\qquad$ **2.2.2** [C4.5](#chap2.2.2)\n",
    "\n",
    "$\\qquad$ **2.2.3** [Ctree](#chap2.2.3)\n",
    "\n",
    "$\\qquad$ **2.2.4** [Limitation](#chap2.2.4)\n",
    "\n",
    "**3. [Algorithm Evaluation](#chap3)**\n",
    "\n",
    "$\\quad$ **3.1** [CART](#chap3.1)\n",
    "\n",
    "$\\quad$ **3.2** [C4.5](#chap3.2)\n",
    "\n",
    "$\\quad$ **3.3** [Ctree](#chap3.3)\n",
    "\n",
    "**4. [Conclusion](#chap4)**\n",
    "\n",
    "[Appendix](#app)\n",
    "\n",
    "[References](#ref)"
   ]
  },
  {
   "cell_type": "code",
   "execution_count": 1,
   "metadata": {},
   "outputs": [
    {
     "name": "stderr",
     "output_type": "stream",
     "text": [
      "Installing packages into 'C:/Users/Viktor Cheng/Documents/R/win-library/3.6'\n",
      "(as 'lib' is unspecified)\n"
     ]
    },
    {
     "name": "stdout",
     "output_type": "stream",
     "text": [
      "package 'partykit' successfully unpacked and MD5 sums checked\n",
      "package 'RWeka' successfully unpacked and MD5 sums checked\n",
      "package 'rpart' successfully unpacked and MD5 sums checked\n",
      "package 'truncnorm' successfully unpacked and MD5 sums checked\n",
      "package 'remotes' successfully unpacked and MD5 sums checked\n",
      "package 'wakefield' successfully unpacked and MD5 sums checked\n",
      "package 'data.table' successfully unpacked and MD5 sums checked\n",
      "package 'rpart.plot' successfully unpacked and MD5 sums checked\n",
      "\n",
      "The downloaded binary packages are in\n",
      "\tC:\\Users\\Viktor Cheng\\AppData\\Local\\Temp\\RtmpglZYMy\\downloaded_packages\n"
     ]
    }
   ],
   "source": [
    "#supress unwanted warning in loading packages\n",
    "options(warn=-1)\n",
    "\n",
    "#install packages in need\n",
    "install.packages(c(\"partykit\", \"RWeka\", \"rpart\", \"truncnorm\", \"remotes\",\"wakefield\", \"partykit\", \"data.table\",\"rpart.plot\"))"
   ]
  },
  {
   "cell_type": "code",
   "execution_count": 2,
   "metadata": {},
   "outputs": [
    {
     "name": "stderr",
     "output_type": "stream",
     "text": [
      "Loading required package: grid\n",
      "Loading required package: libcoin\n",
      "Loading required package: mvtnorm\n",
      "\n",
      "Attaching package: 'data.table'\n",
      "\n",
      "The following objects are masked from 'package:wakefield':\n",
      "\n",
      "    hour, minute, month, second, year\n",
      "\n"
     ]
    }
   ],
   "source": [
    "#initial the packages require for the projects:\n",
    "library(wakefield)\n",
    "library(partykit)\n",
    "library(truncnorm)\n",
    "library(rpart)\n",
    "library(RWeka)\n",
    "library(partykit)\n",
    "library(data.table)\n",
    "library(rpart.plot)\n",
    "#import the custom DGP function from R codes in the repository\n",
    "source(\"R codes/DGP.R\")"
   ]
  },
  {
   "cell_type": "markdown",
   "metadata": {},
   "source": [
    "## 1. Introduction <a id='chap1'></a>"
   ]
  },
  {
   "cell_type": "markdown",
   "metadata": {},
   "source": [
    "The main purpose of this notebook is to study different algorithms of classification tree, with focusing on the decision making mechanism behind each algorithms. The motivation behind this attempt is to explore different types of splitting criteria and ultimately establish a more thorough understanding of tree-based methods. Within this notebook, two separate DGPs with different assumptions will be utilised to help evaluate the algorithms. We will be studying 3 different algorithms in total:\n",
    "<ul>\n",
    "    <li>Classification and Regression Trees (CART)</li>\n",
    "    <li>C4.5</li>\n",
    "    <li>Conditional Inference Trees (Ctree)</li>\n",
    "</ul>\n",
    "\n",
    "The first two algorithms were chosen as both lay the foundation for classification trees, the third was chosen due to its unique splitting method compared to previous two counterparts. CART is a classic example of employing the <em>Gini Index</em>. C4.5 uses the <em>Information Gain</em> method. Lastly, Ctree incorporates the <em>Permutation Test Framework</em>. In this notebook, we will be using the <a href=\"https://cran.r-project.org/web/packages/rpart/index.html\">Rpart</a> package for CART algorithm, <a href=\"https://cran.r-project.org/web/packages/RWeka/index.html\">Rweka</a> for J48, and finally <a href=\"https://cran.r-project.org/web/packages/partykit/index.html\">Partykit</a> for Ctree."
   ]
  },
  {
   "cell_type": "markdown",
   "metadata": {},
   "source": [
    "<div class=\"alert alert-block alert-info\">\n",
    "    <b>Additional Note:</b> The DGP functions are quite long, therefore I decided to import it from the repository. For the sake of transparency, please <a href=\"https://github.com/PoTseCheng/Computational-Statistic/blob/master/R%20codes/DGP.R\">click here</a> to evaluate the code. \n",
    "    \n",
    "</div>"
   ]
  },
  {
   "cell_type": "markdown",
   "metadata": {},
   "source": [
    "## 2. DGPs and Theoretical Perspectives <a id='chap2'></a>"
   ]
  },
  {
   "cell_type": "markdown",
   "metadata": {},
   "source": [
    "### 2.1. Data Generating Procedures <a id='chap2.1'></a>"
   ]
  },
  {
   "cell_type": "markdown",
   "metadata": {},
   "source": [
    "In this section we will be going through the two main DGPs: The first one came from [Tian et al.(2020)](#ref5) from Journal of Infection, while the second one is from [Jones-White et al.(2014)](#ref2) published in Research in Higher Education. The first paper analysed the symptoms of COVID-19 and the consequences of all 262 cases. Furthermore, the 262 cases were split into 2 subgroups by clinical perspective. Jones-White et al.(2014) used multinomial logistic regression model to establish a connection between financial aids and students' college outcomes. For the sake of conciseness, we will just refer to the DGP from Tian et al.(2020) as DGP1 and DGP from Jones-White et al.(2014) as DGP2. All variables can be found in the [Appendix](#app).\n",
    "\n",
    "We will start by generating 500 observations from our custom DGP functions:"
   ]
  },
  {
   "cell_type": "code",
   "execution_count": 3,
   "metadata": {},
   "outputs": [],
   "source": [
    "set.seed(123)\n",
    "data1<- Observations(500)\n",
    "data2<- Observations2(500)"
   ]
  },
  {
   "cell_type": "markdown",
   "metadata": {},
   "source": [
    "### 2.1.1. Tian et al.(2020)  DGP <a id='chap2.1.1'></a>"
   ]
  },
  {
   "cell_type": "markdown",
   "metadata": {},
   "source": [
    "Below is descriptive statistics from Tian et al.(2020) for DGP1:\n",
    "\n",
    "<img src=\"Pics/DGP1.png\">\n",
    "<br>\n",
    "\n",
    "The immediate assumption I imposed on this data is I assumed most characteristics from a single observation are not correlated with each other. This is not quite realistic as diseases symptoms are far more complicated and will potentially influence each other. The main motivation is to lessen the complication when it comes to data generating. Another very important assumption is that I assume the end result of each patient is also <strong>not correlated</strong> with any variables in the observations. This is one of the main reason of having two separate DGPs, as the other utilised results following the founding of Jones-White et al.(2014). This decision will also lead to different behaviours of our decision tree, which will be later discussed in below. I however do account the importance of the severity split in the very beginning, as seen in the descriptive statistics the ratio of two groups differs. More importantly, the result of a severe case has the possibility of death, while the counterpart doesn't. Some other minor assumptions including age, and temperature didn't have any implicit discussion in the paper. For age generation, I took the liberty to use a package called <a href=\"https://cran.r-project.org/web/packages/wakefield/wakefield.pdf\">Wakefield</a>. The age distribution implemented by the package follows the range of data gathered by <a href=\"https://gssdataexplorer.norc.org/variables/53/vshow\">GSS Data Explorer</a>. For temperature, I assume the distribution is a uniform distribution.\n",
    "\n",
    "---\n",
    "\n",
    "Tian et al.(2020) DGP Procedure:\n",
    "\n",
    "<ol>\n",
    " \n",
    "<li>The generated data will first be split into two big sections: severity equals 1 or 0. The percentage for the split is 46/262 and 216/262 following the suggestion of the paper.</li>\n",
    "    <br>\n",
    "<li>Several special variables are generated by packages or a specific distribution.</li>\n",
    "    <br>\n",
    "<li>Other variables are generated by the sample function with given probability from paper.</li>\n",
    "    \n",
    "</ol>"
   ]
  },
  {
   "cell_type": "code",
   "execution_count": 4,
   "metadata": {
    "scrolled": true
   },
   "outputs": [
    {
     "data": {
      "text/html": [
       "<table>\n",
       "<thead><tr><th scope=col>Severity</th><th scope=col>Gender</th><th scope=col>Age</th><th scope=col>Address</th><th scope=col>Contact</th><th scope=col>Temperature</th><th scope=col>Tlabel</th><th scope=col>Symptoms</th><th scope=col>Result</th></tr></thead>\n",
       "<tbody>\n",
       "\t<tr><td>0                </td><td>Male             </td><td>19               </td><td>Beijin           </td><td>Wuhan 14 days    </td><td>37.91            </td><td>Fever            </td><td>Fatigue          </td><td>Hospitalization  </td></tr>\n",
       "\t<tr><td>0                </td><td>Male             </td><td>30               </td><td>Other            </td><td>Wuhan 14 days    </td><td>37.73            </td><td>Fever            </td><td>Dyspnea          </td><td>Hospitalization  </td></tr>\n",
       "\t<tr><td>0                </td><td>Female           </td><td>69               </td><td>Beijin           </td><td>Wuhan 14 days    </td><td>38.94            </td><td>Fever            </td><td>Coughing         </td><td>Hospitalization  </td></tr>\n",
       "\t<tr><td>0                </td><td>Male             </td><td>90               </td><td>Beijin           </td><td>Case 14 days     </td><td>40.55            </td><td>Hyperpyrexia     </td><td>Headache         </td><td>Hospitalization  </td></tr>\n",
       "\t<tr><td>1                </td><td>Male             </td><td>48               </td><td>Beijin           </td><td>Case 14 days     </td><td>37.57            </td><td>Fever            </td><td>Coughing, Fatigue</td><td>Hospitalization  </td></tr>\n",
       "\t<tr><td>0                </td><td>Female           </td><td>22               </td><td>Beijin           </td><td>Case 14 days     </td><td>36.61            </td><td>Normal           </td><td>Coughing, Fatigue</td><td>Hospitalization  </td></tr>\n",
       "</tbody>\n",
       "</table>\n"
      ],
      "text/latex": [
       "\\begin{tabular}{r|lllllllll}\n",
       " Severity & Gender & Age & Address & Contact & Temperature & Tlabel & Symptoms & Result\\\\\n",
       "\\hline\n",
       "\t 0                 & Male              & 19                & Beijin            & Wuhan 14 days     & 37.91             & Fever             & Fatigue           & Hospitalization  \\\\\n",
       "\t 0                 & Male              & 30                & Other             & Wuhan 14 days     & 37.73             & Fever             & Dyspnea           & Hospitalization  \\\\\n",
       "\t 0                 & Female            & 69                & Beijin            & Wuhan 14 days     & 38.94             & Fever             & Coughing          & Hospitalization  \\\\\n",
       "\t 0                 & Male              & 90                & Beijin            & Case 14 days      & 40.55             & Hyperpyrexia      & Headache          & Hospitalization  \\\\\n",
       "\t 1                 & Male              & 48                & Beijin            & Case 14 days      & 37.57             & Fever             & Coughing, Fatigue & Hospitalization  \\\\\n",
       "\t 0                 & Female            & 22                & Beijin            & Case 14 days      & 36.61             & Normal            & Coughing, Fatigue & Hospitalization  \\\\\n",
       "\\end{tabular}\n"
      ],
      "text/markdown": [
       "\n",
       "| Severity | Gender | Age | Address | Contact | Temperature | Tlabel | Symptoms | Result |\n",
       "|---|---|---|---|---|---|---|---|---|\n",
       "| 0                 | Male              | 19                | Beijin            | Wuhan 14 days     | 37.91             | Fever             | Fatigue           | Hospitalization   |\n",
       "| 0                 | Male              | 30                | Other             | Wuhan 14 days     | 37.73             | Fever             | Dyspnea           | Hospitalization   |\n",
       "| 0                 | Female            | 69                | Beijin            | Wuhan 14 days     | 38.94             | Fever             | Coughing          | Hospitalization   |\n",
       "| 0                 | Male              | 90                | Beijin            | Case 14 days      | 40.55             | Hyperpyrexia      | Headache          | Hospitalization   |\n",
       "| 1                 | Male              | 48                | Beijin            | Case 14 days      | 37.57             | Fever             | Coughing, Fatigue | Hospitalization   |\n",
       "| 0                 | Female            | 22                | Beijin            | Case 14 days      | 36.61             | Normal            | Coughing, Fatigue | Hospitalization   |\n",
       "\n"
      ],
      "text/plain": [
       "  Severity Gender Age Address Contact       Temperature Tlabel      \n",
       "1 0        Male   19  Beijin  Wuhan 14 days 37.91       Fever       \n",
       "2 0        Male   30  Other   Wuhan 14 days 37.73       Fever       \n",
       "3 0        Female 69  Beijin  Wuhan 14 days 38.94       Fever       \n",
       "4 0        Male   90  Beijin  Case 14 days  40.55       Hyperpyrexia\n",
       "5 1        Male   48  Beijin  Case 14 days  37.57       Fever       \n",
       "6 0        Female 22  Beijin  Case 14 days  36.61       Normal      \n",
       "  Symptoms          Result         \n",
       "1 Fatigue           Hospitalization\n",
       "2 Dyspnea           Hospitalization\n",
       "3 Coughing          Hospitalization\n",
       "4 Headache          Hospitalization\n",
       "5 Coughing, Fatigue Hospitalization\n",
       "6 Coughing, Fatigue Hospitalization"
      ]
     },
     "metadata": {},
     "output_type": "display_data"
    }
   ],
   "source": [
    "showcase1<- data.table(data1)\n",
    "showcase1[sample(.N, 6)]"
   ]
  },
  {
   "cell_type": "markdown",
   "metadata": {},
   "source": [
    "### 2.1.2 Jones-White et al.(2014) DGP <a id='chap2.1.2'></a>"
   ]
  },
  {
   "cell_type": "markdown",
   "metadata": {},
   "source": [
    "The procedure of this particular DGP is more complicated than the previous DGP, as it requires one to take the result from the paper. Please take a look at the below descriptive statistics:\n",
    "\n",
    "<img src=\"Pics/DGP2.png\">\n",
    "\n",
    "A major assumption that I imposed on this particular DGP is that a huge proportion is followed by a normal distribution. In particular, I use the <a href=\"https://cran.r-project.org/web/packages/truncnorm/index.html\">Truncnorm</a> package that allows user-defined cut-offs for maximum and minimum. Another important assumption is I assume each observation can only at most access to one aid type (please consult the variables explanation) as only percentages are given in the original paper. I also took the liberty to combine several categories into one, for instance: Asian, Underrepresented Minority are combined to form the race category. The generated results follow closely to the findings of Jones-White et al.(2014). We will first considered the method used by Jones-White et al.(2014):\n",
    "  \n",
    "$$\\ln{\\Omega_{m|b}}=\\ln{\\dfrac{Pr(y=m|x)}{Pr(y=b|x)}}=x\\beta_{m|b},\\hspace{1cm} m=1,...,J$$\n",
    "\n",
    "This multinomial approach allows us to obtain the relative probability of a given state compared to a measured state. Please now consider the following table from the paper:\n",
    "\n",
    "<img src=\"Pics/Coeff.png\">\n",
    "\n",
    "The above-mentioned table showcases the Relative Risk Ratio, which is calculated by taking the natural exponential of the logit coefficients by the <em>epicalc</em> package (Jones-White et al.(2014) page 339). Which means we are able to derive the original betas from these variables via taking the natural logarithm. We then multiple the betas with the x from our previous discussion. One may immediately notice that solely with the value of one $x\\beta$ is not enough to conclude our result, as the nature of $x\\beta$ merely represents the <strong>relative possibility</strong> for one of the cases. In this case, we need to consider all three $x\\beta$ to establish a ratio between all three cases. Please now consider three relative probability denoted by A, B, and C. Also NG denotes as Not Graduated, G denotes Graduated, and TG denotes Transfer Graduated:\n",
    "\n",
    "$$\n",
    "  \\dfrac{Pr(NG)}{Pr(G)}=A \\hspace{2cm} \\dfrac{Pr(TG)}{Pr(G)}=B \\hspace{2cm} \\dfrac{Pr(NG)}{Pr(TG)}=C \\\\\n",
    "$$\n",
    "\n",
    "\n",
    "With some algebra we can get (Detailed proof [here](https://nbviewer.jupyter.org/github/PoTseCheng/Computational-Statistic/blob/master/Supplements/Proof.ipynb)):\n",
    "\n",
    "$$\n",
    "1 = \\left\\{\n",
    "    \\begin{array}\\\\\n",
    "        A^2 & \\mbox{Pr(NG)} \\\\\n",
    "        AB & \\mbox{Pr(T) }  \\\\\n",
    "        BC & \\mbox{Pr(G)}\n",
    "    \\end{array}\n",
    "\\right.\n",
    "$$\n",
    "\n",
    "\n",
    "After successfully deriving the ratio between all three cases, we then exploit this ratio to create the probability needed for our final result.\n",
    "\n",
    "---\n",
    "\n",
    "Jones-White et al.(2014) Procedure:\n",
    "\n",
    "<ol>\n",
    "    <li>Dummy variables were first generated according to the given mean, and standard deviation.</li>\n",
    "    <br>\n",
    "    <li>Other variables were then generated by Truncnorm package.</li>\n",
    "    <br>\n",
    "    <li>Financial aid types were first generated according to the paper.</li>\n",
    "    <br>\n",
    "    <li>According to the list, generate and assign the financial amount according to the mean, and sd.</li>\n",
    "    <br>\n",
    "    <li>Calculate the possibilities and generate the result for individual observation according to the paper.</li>\n",
    "\n",
    "</ol>"
   ]
  },
  {
   "cell_type": "code",
   "execution_count": 5,
   "metadata": {},
   "outputs": [
    {
     "data": {
      "text/html": [
       "<table>\n",
       "<thead><tr><th scope=col>Gender</th><th scope=col>Race</th><th scope=col>Generation</th><th scope=col>Status</th><th scope=col>Geographic</th><th scope=col>Remedy</th><th scope=col>Choice</th><th scope=col>Living</th><th scope=col>Community</th><th scope=col>Athlete</th><th scope=col>Aidtype</th><th scope=col>Aidamount</th><th scope=col>Unmet</th><th scope=col>ACT</th><th scope=col>AP</th><th scope=col>Course</th><th scope=col>Ccount</th><th scope=col>Dcount</th><th scope=col>Result</th></tr></thead>\n",
       "<tbody>\n",
       "\t<tr><td>Male              </td><td>White             </td><td>No                </td><td>Traditional       </td><td>In-state          </td><td>No                </td><td>Others            </td><td>Outside Campus    </td><td>No                </td><td>No                </td><td>Need Aid          </td><td>1.32              </td><td>3.98              </td><td>25.41             </td><td>10.33             </td><td>90.61             </td><td>1.86              </td><td>0.14              </td><td>Graduated         </td></tr>\n",
       "\t<tr><td>Female            </td><td>Minorities        </td><td>No                </td><td>Traditional       </td><td>Reciprocity state </td><td>No                </td><td>First Choice      </td><td>On Campus         </td><td>No                </td><td>No                </td><td>Need Aid          </td><td>3.42              </td><td>0.67              </td><td>28.74             </td><td> 9.09             </td><td>87.15             </td><td>2.00              </td><td>0.42              </td><td>Graduated         </td></tr>\n",
       "\t<tr><td>Male              </td><td>White             </td><td>No                </td><td>Traditional       </td><td>In-state          </td><td>No                </td><td>Others            </td><td>On Campus         </td><td>No                </td><td>No                </td><td>Loan Aid          </td><td>2.65              </td><td>1.22              </td><td>22.70             </td><td> 0.08             </td><td>66.25             </td><td>0.11              </td><td>0.19              </td><td>Graduated         </td></tr>\n",
       "\t<tr><td>Male              </td><td>Asian             </td><td>No                </td><td>Traditional       </td><td>In-state          </td><td>No                </td><td>First Choice      </td><td>On Campus         </td><td>No                </td><td>No                </td><td>Loan Aid          </td><td>0.69              </td><td>2.54              </td><td>20.41             </td><td> 1.90             </td><td>81.56             </td><td>2.69              </td><td>0.08              </td><td>Graduated         </td></tr>\n",
       "\t<tr><td>Female            </td><td>White             </td><td>No                </td><td>Traditional       </td><td>In-state          </td><td>No                </td><td>First Choice      </td><td>Outside Campus    </td><td>Yes               </td><td>No                </td><td>Loan Aid          </td><td>0.87              </td><td>1.01              </td><td>20.34             </td><td> 4.00             </td><td>84.66             </td><td>1.12              </td><td>0.34              </td><td>Transfer Graduated</td></tr>\n",
       "\t<tr><td>Male              </td><td>White             </td><td>No                </td><td>Traditional       </td><td>Reciprocity state </td><td>No                </td><td>First Choice      </td><td>On Campus         </td><td>No                </td><td>No                </td><td>Need Aid          </td><td>1.43              </td><td>6.45              </td><td>21.01             </td><td> 8.17             </td><td>75.54             </td><td>0.74              </td><td>0.17              </td><td>Graduated         </td></tr>\n",
       "</tbody>\n",
       "</table>\n"
      ],
      "text/latex": [
       "\\begin{tabular}{r|lllllllllllllllllll}\n",
       " Gender & Race & Generation & Status & Geographic & Remedy & Choice & Living & Community & Athlete & Aidtype & Aidamount & Unmet & ACT & AP & Course & Ccount & Dcount & Result\\\\\n",
       "\\hline\n",
       "\t Male               & White              & No                 & Traditional        & In-state           & No                 & Others             & Outside Campus     & No                 & No                 & Need Aid           & 1.32               & 3.98               & 25.41              & 10.33              & 90.61              & 1.86               & 0.14               & Graduated         \\\\\n",
       "\t Female             & Minorities         & No                 & Traditional        & Reciprocity state  & No                 & First Choice       & On Campus          & No                 & No                 & Need Aid           & 3.42               & 0.67               & 28.74              &  9.09              & 87.15              & 2.00               & 0.42               & Graduated         \\\\\n",
       "\t Male               & White              & No                 & Traditional        & In-state           & No                 & Others             & On Campus          & No                 & No                 & Loan Aid           & 2.65               & 1.22               & 22.70              &  0.08              & 66.25              & 0.11               & 0.19               & Graduated         \\\\\n",
       "\t Male               & Asian              & No                 & Traditional        & In-state           & No                 & First Choice       & On Campus          & No                 & No                 & Loan Aid           & 0.69               & 2.54               & 20.41              &  1.90              & 81.56              & 2.69               & 0.08               & Graduated         \\\\\n",
       "\t Female             & White              & No                 & Traditional        & In-state           & No                 & First Choice       & Outside Campus     & Yes                & No                 & Loan Aid           & 0.87               & 1.01               & 20.34              &  4.00              & 84.66              & 1.12               & 0.34               & Transfer Graduated\\\\\n",
       "\t Male               & White              & No                 & Traditional        & Reciprocity state  & No                 & First Choice       & On Campus          & No                 & No                 & Need Aid           & 1.43               & 6.45               & 21.01              &  8.17              & 75.54              & 0.74               & 0.17               & Graduated         \\\\\n",
       "\\end{tabular}\n"
      ],
      "text/markdown": [
       "\n",
       "| Gender | Race | Generation | Status | Geographic | Remedy | Choice | Living | Community | Athlete | Aidtype | Aidamount | Unmet | ACT | AP | Course | Ccount | Dcount | Result |\n",
       "|---|---|---|---|---|---|---|---|---|---|---|---|---|---|---|---|---|---|---|\n",
       "| Male               | White              | No                 | Traditional        | In-state           | No                 | Others             | Outside Campus     | No                 | No                 | Need Aid           | 1.32               | 3.98               | 25.41              | 10.33              | 90.61              | 1.86               | 0.14               | Graduated          |\n",
       "| Female             | Minorities         | No                 | Traditional        | Reciprocity state  | No                 | First Choice       | On Campus          | No                 | No                 | Need Aid           | 3.42               | 0.67               | 28.74              |  9.09              | 87.15              | 2.00               | 0.42               | Graduated          |\n",
       "| Male               | White              | No                 | Traditional        | In-state           | No                 | Others             | On Campus          | No                 | No                 | Loan Aid           | 2.65               | 1.22               | 22.70              |  0.08              | 66.25              | 0.11               | 0.19               | Graduated          |\n",
       "| Male               | Asian              | No                 | Traditional        | In-state           | No                 | First Choice       | On Campus          | No                 | No                 | Loan Aid           | 0.69               | 2.54               | 20.41              |  1.90              | 81.56              | 2.69               | 0.08               | Graduated          |\n",
       "| Female             | White              | No                 | Traditional        | In-state           | No                 | First Choice       | Outside Campus     | Yes                | No                 | Loan Aid           | 0.87               | 1.01               | 20.34              |  4.00              | 84.66              | 1.12               | 0.34               | Transfer Graduated |\n",
       "| Male               | White              | No                 | Traditional        | Reciprocity state  | No                 | First Choice       | On Campus          | No                 | No                 | Need Aid           | 1.43               | 6.45               | 21.01              |  8.17              | 75.54              | 0.74               | 0.17               | Graduated          |\n",
       "\n"
      ],
      "text/plain": [
       "  Gender Race       Generation Status      Geographic        Remedy\n",
       "1 Male   White      No         Traditional In-state          No    \n",
       "2 Female Minorities No         Traditional Reciprocity state No    \n",
       "3 Male   White      No         Traditional In-state          No    \n",
       "4 Male   Asian      No         Traditional In-state          No    \n",
       "5 Female White      No         Traditional In-state          No    \n",
       "6 Male   White      No         Traditional Reciprocity state No    \n",
       "  Choice       Living         Community Athlete Aidtype  Aidamount Unmet ACT  \n",
       "1 Others       Outside Campus No        No      Need Aid 1.32      3.98  25.41\n",
       "2 First Choice On Campus      No        No      Need Aid 3.42      0.67  28.74\n",
       "3 Others       On Campus      No        No      Loan Aid 2.65      1.22  22.70\n",
       "4 First Choice On Campus      No        No      Loan Aid 0.69      2.54  20.41\n",
       "5 First Choice Outside Campus Yes       No      Loan Aid 0.87      1.01  20.34\n",
       "6 First Choice On Campus      No        No      Need Aid 1.43      6.45  21.01\n",
       "  AP    Course Ccount Dcount Result            \n",
       "1 10.33 90.61  1.86   0.14   Graduated         \n",
       "2  9.09 87.15  2.00   0.42   Graduated         \n",
       "3  0.08 66.25  0.11   0.19   Graduated         \n",
       "4  1.90 81.56  2.69   0.08   Graduated         \n",
       "5  4.00 84.66  1.12   0.34   Transfer Graduated\n",
       "6  8.17 75.54  0.74   0.17   Graduated         "
      ]
     },
     "metadata": {},
     "output_type": "display_data"
    }
   ],
   "source": [
    "showcase2<- data.table(data2)\n",
    "showcase2[sample(.N, 6)]"
   ]
  },
  {
   "cell_type": "markdown",
   "metadata": {},
   "source": [
    "### 2.2. Mechanisms and Limitations <a id='Chap2.2'></a>"
   ]
  },
  {
   "cell_type": "markdown",
   "metadata": {},
   "source": [
    "A generic algorithm has to decide the following aspect:\n",
    "\n",
    "<ul>\n",
    "    <li>How to grow a tree</li>\n",
    "    <li>When to stop growing</li>\n",
    "    <li>How to prune the tree</li>\n",
    "    \n",
    "</ul>\n",
    "\n",
    "Growing a tree includes the splitting criteria, most common formulas are Information Gain, Gini Index, and Twoing Index. Usually a stop criteria is whenever the formulas deem it's not worthy to have further splits. There are two types of pruning, pre- and post-pruning: With pre-pruning we stop whenever certain criteria is met (or not met). With post-pruning, there are subtree raising and subtree replacement. The first method replaces the parent node with the offspring, while the latter replace the node with a leaf.\n",
    "\n",
    "Notice I will skip the missing value discussion in all three algorithms, but all three algorithms below are capable of handling them. The algorithm I showed is also not the entirety, but rather a synopsis."
   ]
  },
  {
   "cell_type": "markdown",
   "metadata": {},
   "source": [
    "### 2.2.1 CART  <a id='chap2.2.1'></a>"
   ]
  },
  {
   "cell_type": "markdown",
   "metadata": {},
   "source": [
    "Classification and Regression Trees (CART) is a supervised algorithm developed by Breiman et al (1984). There are good reasons why CART is such a popular algorithm: It is capable of handling missing values, any data structure, mixture of datatypes in dataset, high dimensionality, and also data with no homogeneity. \n",
    "\n",
    "We will start by focusing on how CART splits the nodes. CART uses explicitly the <em>Gini Index </em>to determine a split, and aims to achieve the highest purity. Consider the following optimization problem:\n",
    "\n",
    "$$\n",
    "\\begin{equation}\n",
    "\\left\\{ \n",
    "  \\begin{aligned}\n",
    "Max\\Delta G(s,t)=G(t)-p_{y}G(t_{y})-p_{n}G(t_{n}) \\\\\n",
    "s.t. \\ G(t)=\\sum _{j \\neq i} p(i/t)p(j/t)=1-\\sum p^{2}(j/t) \\\\\n",
    "\\end{aligned}\n",
    "  \\right.\n",
    "\\end{equation}\n",
    "$$\n",
    "\n",
    "<br>\n",
    "$G(t)$ stands for the Gini Index for a given node $t$, while $p(j/t)$ denotes the probability that a case of $j$ falls into node $t$. $p_{y}$ and $p_{n}$ stands for the possibility for splitting to left (a yes) or right (a no) respectively. Gini Index prefers a split that results in one small node with higher purity and another large node with lower purity rather than two nodes of similar purity and size. Gini Index is also a concave function, which allows us to find the maximum in $Max\\Delta G(s,t)$ (the best split). Notice that CART only allows univariate splits, which means the split is determined by only one predictor variable.Therefore if  $X$ is a categorical variable, CART will allow $2^{k-1}-1$ possible splits, with $k$ denoting the distinct values. If $X$ is a continuous variable, it will be allowed to have $K-1$ different values.\n",
    "\n",
    "But not only can Gini Index infleunce the split, another important aspect is the <em>Prior Probabilities</em>. To gain the full picture of how Prior Probabilities also influence the split, let $\\pi_{j}$ denotes as a prior probabilities. Define $p(i,j)$ as the estimate of probability when both an element is class $j$ and is in node $t$. Also $p(i,j)=\\pi_{j} \\dfrac{N_{j}t}{N_{j}}$. We can then see that $p(j/t)=\\dfrac{p(j,t)}{\\sum_{j}p(j,t)}$, which share the same definition as above.\n",
    "\n",
    "CART also has several ways to combat misclassification within the splitting mechanism, including <em>Generalised Gini Index </em>(GGI) and <em> Altered Prior </em>(AP). Rpart uses particularly the AP approach with very good reasons. We will first define $c(j/i)$ as the cost for misclassifying a $j$ object to $i$, in particular:\n",
    "$$\n",
    "c(j/i) = \\left\\{\n",
    "    \\begin{array}\\\\\n",
    "        0 & \\mbox{if} \\ i = \\ j \\\\\n",
    "        \\geq 0 & \\mbox{if } \\ i \\neq  \\ j \\\\\n",
    "    \\end{array}\n",
    "\\right.\n",
    "$$\n",
    "\n",
    "Recall that the original Gini Index is defined as $\\sum _{j \\neq i} p(i/t)p(j/t)$. GGI is defined as $\\sum _{j, i} c(j/i)p(i/t)p(j/t)$. Below are two examples cost matrices from GGI:\n",
    "\n",
    "$$\n",
    "\\begin{bmatrix} 0 & 2 & 2 \\\\ 2 & 0 & 1 \\\\ 2 & 1& 0 \\end{bmatrix} \\hspace{2cm} \\begin{bmatrix} 0 & 2 \\\\ 2 & 0  \\end{bmatrix}\n",
    "$$\n",
    "\n",
    "The row denotes class $j$ while the column denotes class $i$. A serious issue arises with GGI when dealing with a two class split, since the cost matrix imposed by GGI is always symmetric. GGI is therefore incapable of penalising for misclassification in the two-class case. Moreover, GGI isn't necessarily a concave function for optimisation. AP on the other hand impose the cost at the previous $\\pi_{j}$, changing it into $\\pi^{'}_{j}=\\dfrac{c(j)\\pi(j)}{\\sum_{j}c(j)\\pi(j)}$. This allows AP to generate a cost matrix that is asymmetric and the penalties are always constant. Below is an example from AP:\n",
    "\n",
    "$$\n",
    "\\begin{bmatrix} 0 & 3 & 3 \\\\ 1 & 0 & 1 \\\\ 1 & 1 & 0 \\end{bmatrix} \n",
    "$$\n",
    "\n",
    "After the splitting mechanism, we will take a look at how an element is assigned within the node. CART picks the elements that contain the highest possibility of being in that node, while having a relative low possibility of misclassification. Which can be shown below:\n",
    "\n",
    "$$\n",
    "\\left\\{\n",
    "    \\begin{array}\\\\\n",
    "\\max p(j/t) \\\\\n",
    "\\min r(t)= 1- \\max p(j/t) \\\\\n",
    "   \\end{array}\n",
    "\\right.\n",
    "$$\n",
    "\n",
    "From the above equation, $r(t)$ denotes the probability of a particular misclassification. We can then use $R(T)=\\sum_{t\\in T} r(t)p(t)$ to represent the overall tree misclassification rate. After growing the tree, CART then proceeds to use k-fold cross-validation in combination with <em>Minimum Cost-Complexity </em> to prune the tree (post-pruning). Consider the following equation:\n",
    "\n",
    "$$\n",
    "R_{\\alpha}(T)=R(T) + \\alpha|T|\n",
    "$$\n",
    "\n",
    "Where $R(T)$ is the overall misclassification rate, $T$ denotes the number of nodes, and $\\alpha$ is the regularization parameter for the number of nodes (or complexity parameter in Rpart). It is clear that $\\alpha$ represents a trade-off between complexity and errors. A smaller value of $\\alpha$ will prefer trees with low training error, while a larger value of $\\alpha$ prefers smaller trees. $\\alpha$ is normally generated via the help of k-fold cross-validation following the one standard deviation rule. The intuition behind the best tree is considered as the smallest tree such that its estimated error is within one standard error of the minimum.\n",
    "\n",
    "--- \n",
    "\n",
    "<strong>CART algorithm:</strong>\n",
    "\n",
    "<ul>\n",
    "<li>Growing the tree</li>\n",
    "\n",
    "<ol>\n",
    "    <li>Find the global best split (<em>$Max\\Delta G(s,t)$</em>)</li>\n",
    "<br>\n",
    "<li>Find the node’s best split (compared the splits from step 1 to find the best one)</li>\n",
    "<br>\n",
    "<li>Split the node using its best split found in step 2</li>\n",
    "<br>\n",
    "<li>Repeat step 1 to 3</li>\n",
    " \n",
    "</ol>\n",
    "    <br>\n",
    "<li>Stop if a node becomes pure, have identical values, exceed specified maximum tree depth defined by user, or less then user-specified minimum node size value</li>\n",
    "    \n",
    "<li>Prune the tree after stopped (<em>Minimum Cost-Complexity </em>) </li>\n",
    "</ul>\n",
    " "
   ]
  },
  {
   "cell_type": "markdown",
   "metadata": {},
   "source": [
    "### 2.2.2 C4.5 <a id='chap2.2.2'></a>"
   ]
  },
  {
   "cell_type": "markdown",
   "metadata": {},
   "source": [
    "The C4.5 is an improved algorithm developed by Ross Quinlan in 1993 from the original Iterative Dichotomiser 3 (ID3). Numerous improvements including: The ability to use continuous variables, pruning, dealing with missing values, and assigning different weights. \n",
    "\n",
    "Similar to CART, we will first be looking at how the algorithm splits the nodes. C4.5 utilises the Information Gain method as following: Assume a node can be splitted into $t$ nodes ($t_{1}, t_{2}....$), let the <em>Entropy</em> at $t$ be defined as:\n",
    "\n",
    "$$e(t)=-\\sum_{j}p(j|t)log{p(j|t)}$$\n",
    "\n",
    "Also define the <em>Gain</em> for a particular split as below:\n",
    "\n",
    "$$e(t)-N(t)^{-1}\\sum_{i}e(t_{i})N(t_{i})$$\n",
    "\n",
    "Finally, we will define the <em>Gain Ratio</em> as below:\n",
    "\n",
    "$$ \\dfrac{e(t)-N(t)^{-1}\\sum_{i}e(t_{i})N(t_{i})}{N(t)^{-1}\\sum_{i}N(t_{i}){\\log N(t_{i})-\\log N(t)}}$$\n",
    "\n",
    "C4.5 then picks the split that will result in the highest Gain Ratio. Additional remark regarding the splitting variable, if $X$ is continuous then the split will be divided to two with $X\\leq C$ with $C$ being a constant. If $X$ is a categorical variable with $k$ variations, then C4.5 can allow a maximum of $k$ splits.\n",
    "\n",
    "C4.5 possesses a very simple mechanism of pre-pruning, which can be denoted as parameter $m$. The default value from C4.5 is 2, but it can also be user-defined. Parameter $m$ is the prerequisite for the node to continue splitting. If a node has less than $m$ successors, or contains less than $m$ examples, the node will become a leaf.\n",
    "\n",
    "C4.5 performs post-pruning in addition of parameter $m$ after growing a tree. Pruning is achieved by <em>Error Estimation</em>. C4.5 follows the below definition for error estimation for each node:\n",
    "\n",
    "$$ e= \\dfrac{f + \\dfrac{f^2}{2N} + z\\sqrt{\\dfrac{f}{N} + \\dfrac{f^2}{N} + \\dfrac{z^2}{4N^2}}}{1+\\dfrac{z^2}{N}}$$\n",
    "\n",
    "$z$ denotes the z-value probability derived from the desired confidence interval (in C4.5 the standard confidence interval value equals 25% which means $z$ equals 0.69), $f$ denotes the error from the training data, and lastly $N$ denotes the elements covered by the leaf. The pruning conducted by C4.5 is pessimistic, which means C4.5 based the increased error rate on the training set (as error rate grows with each node we observed). C4.5 will prune the set of branches with higher combined error compared to their parents, and replace it with a leaf. Below is an illustration of C4.5 pruning decision:\n",
    "\n",
    "\n",
    "<img src=\"Pics/C4.5.png\">\n",
    "\n",
    "\n",
    "The pruning process from C4.5 also prunes the conditions from the rule within each node. After pruning the nodes, C4.5 will use the remaining conditioned rules for a certain class to evaluate the best subset guided by Minimum Description Length (MDL). Finally, C4.5 will prune the rule if it lowers the estimate error.\n",
    "\n",
    "---\n",
    "\n",
    "<strong>C4.5 Algorithm:</strong>\n",
    "\n",
    "<ul>\n",
    "<li>Growing the tree</li>\n",
    "\n",
    "<ol>\n",
    "    <li>Find the global best split (<em>Gain Ratio</em>)</li>\n",
    "<br>\n",
    "<li>Find the node’s best split (compared the splits from step 1 to find the best one)</li>\n",
    "<br>\n",
    "<li>Split the node using its best split found in step 2</li>\n",
    "<br>\n",
    "<li>Determine if the node falls below $m$ (<em>Pre-pruning</em>)</li>\n",
    "<br>\n",
    "<li>Repeat step 1 to 4</li>\n",
    " \n",
    "</ol>\n",
    "<br>\n",
    "    \n",
    "<li>Prune the tree after stopped (<em>Error Estimation</em>) </li>\n",
    "\n",
    "</ul>"
   ]
  },
  {
   "cell_type": "markdown",
   "metadata": {},
   "source": [
    "<div class=\"alert alert-block alert-info\">\n",
    "    <b>Additional Note:</b> Notice that now there exists <a href=\"https://www.rulequest.com/see5-unix.html\">C5.0</a>, which is the commercial successor of C4.5.   \n",
    "</div>"
   ]
  },
  {
   "cell_type": "markdown",
   "metadata": {},
   "source": [
    "### 2.2.3 Ctree  <a id='chap2.2.3'></a>\n",
    "\n",
    "Ctree is a new and powerful classification tree that shares almost all the benefits of CART and C4.5 such as handling missing values, dealing with different types of data in one dataset...etc. While both CART and C4.5 use measures of impurity to determine a node split, Ctree approaches this problem differently. Moreover, unlike CART and C4.5 which mainly rely on post-pruning, Ctree only uses pre-pruning.\n",
    "\n",
    "We will start from the beginning to see how Ctree works. Immediately after importing a training data, the Ctree algorithm will initial a <em>Permutation Test</em> developed by Strasser et al. (1999) before any splits or variables are decided. The motivations are to combat selection bias and unknown conditional distribution, since most parametric tests rely on assumption of the distribution. We will first need to define $H_{0}$ as follows:\n",
    "\n",
    "$$\n",
    "\\left\\{\n",
    "    \\begin{array}\\\\\n",
    "H_{0}=\\cap^{m}_{j=1}H^{j}_{0}\\\\\n",
    "H^{j}_{0}:D(Y|X_{j})=D(Y)\\\\\n",
    "   \\end{array}\n",
    "\\right.\n",
    "$$\n",
    "\n",
    "The permutation test procedures are carried out as follow:\n",
    "\n",
    "<ol>\n",
    "    <li>Define $H_{0}$ for independence</li>\n",
    "    <br>\n",
    "    <li>Calculate $T_{0}$</li>\n",
    "    <br>\n",
    "    <li>Calculate all $T_{i=1,..,k}$ for all possible permutation within the samples</li>\n",
    "    <br>\n",
    "    <li>Compute $n_{e}$ which are numbers of $T_{i}$ that exceeds $T_{0}$, also count all $T_{k}$ and call it $n_{all}$</li>\n",
    "    <ul>\n",
    "        <li>if number of permutation is too big, random permutations will be drawn</li>\n",
    "    </ul>\n",
    "    <li>P-value = $\\dfrac{n_{e}}{n_{all}}$, then reject $H_{0}$ if P-value is smaller than $\\alpha$ </li>\n",
    "    \n",
    "</ol>\n",
    "\n",
    "The T formula is defined as below:\n",
    "\n",
    "$$\n",
    "T_{j}(L_{n},w)=vec \\biggl(\\sum^{n}_{i=1}w_{i}g_{i}X_{ji}h\\Bigl(Y_{i},(Y_{1},...,Y_{n}) \\Bigl)^{T} \\biggl) \\in \\mathbb{R}^{p_{j}q}\n",
    "$$\n",
    "\n",
    "Vec stands for the vectorisation. $L_{n}$ denotes the learning samples (Ctree allows some learning samples to be missing). $h$ is called the influence function and $g_{j}$ is the transformation of $X_{j}$. The former depends on the responses of $Y_{i=1,...,n}$ and the latter is a non random transformation that depends on the data we are working with. $w_{i}$ stands for the non-negative case weight. A more detailed explanation for individual math element is beyond the scope of this notebook, it can be found in Strasser et al. (1999).\n",
    "\n",
    "After the permutation test, the algorithm will start to find out possible $X_{j}$ for splitting. Ctree will compare all P-values within all $X_{j}$ from the previous permutation calculation, and pick the one that has the smallest P-value. Afterwards, a specific splitting point within the $X_{j}$ will be established by maximising the standardised test function. The standardised version of the test statistics is defined below:\n",
    "\n",
    "$$\n",
    "c_{max}(t,\\mu, \\sum)=\\max_{k=1,...,pq} |\\dfrac{(t-\\mu)_{k}}{(\\sum)_{kk}}|\n",
    "$$\n",
    "\n",
    "With $\\sum$ denoting the following:\n",
    "\n",
    "$$\n",
    "\\mu_{j}=vec\\Bigl( \\Bigl( \\sum^{n}_{i=1}w_{i}g_{j}(X_{ij})\\Bigl) \\mathbb{E}(h|S(L_{n},w))^{T} \\Bigl)\n",
    "$$\n",
    "\n",
    "And $\\mu$ as follows:\n",
    "\n",
    "$$\n",
    "\\mu= \\mathbb{V}(T_{j}(L_{n}, w)|S(L_{n},w))\n",
    "$$\n",
    "\n",
    "$S(L_{n},w)$ stands for the symmetric group of all permutations of elements corresponding from 1 to n given a fixed weight.\n",
    "\n",
    "---\n",
    "\n",
    "<strong>Ctree Algorithm:</strong>\n",
    "\n",
    "<ol>\n",
    "    <li>Stop Criteria (Pre-pruning)</li>\n",
    "        <ul>\n",
    "          <li>Test global null hypothesis $H_{0}$ between $X_{j}$ and $Y$ for independence (<em>Permutation Test</em>)</li>\n",
    "          <li>If $H_{0}$ not rejected, then stop growing</li>\n",
    "        </ul> \n",
    "    <br>\n",
    "    <li>Select $X_{j}$ with the strongest association (smallest P-value)</li>\n",
    "    <br>\n",
    "    <li>Find the best split point within the selected $X_{j}$ via $c_{max}(t,\\mu, \\sum)$ then split the data</li>\n",
    "    <br>\n",
    "    <li>Repeat</li>\n",
    "    \n",
    "</ol>"
   ]
  },
  {
   "cell_type": "markdown",
   "metadata": {},
   "source": [
    "### 2.2.4 Limitations <a id='chap2.2.4'></a>"
   ]
  },
  {
   "cell_type": "markdown",
   "metadata": {},
   "source": [
    "The limitations will be focusing on CART and C4.5. [Loh et al. (2014)](#ref3) reported several undesired properties regarding the two algorithms. In particular, computational expensive and selection bias.\n",
    "\n",
    "We will start by CART. Recall that CART allows $2^{k-1}-1$ possible splits for categorical values, and $K-1$ different splits for numerical. The result of this unrestricted search will contribute to bias towards variables with more distinctive values and also computational expensive. Computational difficulties arise especially if $Y$ has more values than 2 and if $k$ is large (One can sidestep this obstacle by reducing the search to $k-1$, but CART doesn't). CART also prefers variables with more distinctive values since it allows for more splits, we will illustrate this by the help of the following formulas:\n",
    "\n",
    "$$Y \\sim N(0,1)\\\\\n",
    "X_{1} \\sim M(n, 1)\\\\\n",
    "X_{2} \\sim M(n, \\dfrac{1}{2}, \\dfrac{1}{2})\\\\\n",
    "X_{3} \\sim M(n, \\dfrac{1}{3}, \\dfrac{1}{3}, \\dfrac{1}{3})\\\\\n",
    "$$"
   ]
  },
  {
   "cell_type": "code",
   "execution_count": 6,
   "metadata": {},
   "outputs": [
    {
     "data": {
      "image/png": "[encoded data removed]",
      "text/plain": [
       "plot without title"
      ]
     },
     "metadata": {},
     "output_type": "display_data"
    }
   ],
   "source": [
    "set.seed(100)\n",
    "df<- test(100)\n",
    "\n",
    "bias<- rpart(y~.,data=df)\n",
    "prp(bias)"
   ]
  },
  {
   "cell_type": "markdown",
   "metadata": {},
   "source": [
    "Unsurprisingly, CART picks the $X_3$ to determine the first split. This confirms the selection biases among CART.\n",
    "\n",
    "C4.5 on the other hand is computational efficient, also since C4.5 allow $k$ splits for categorical variables, it can easily deal with any sorts of categorical values. C4.5 however also prefers variables allowing more splits, and it is susceptible to data with more noise. A major downside for C4.5 despites its effort of pruning, is that C4.5 often does not prune enough. In particular, the tree from C4.5 will only stop growing a tree when certain rules are violated; which means C4.5 will continue to grow the tree even if no improvement on the data (as long as it does not lower the improvement). This is the main reason why usually C4.5 have the most leaves compared to other algorithms."
   ]
  },
  {
   "cell_type": "markdown",
   "metadata": {},
   "source": [
    "## 3. Algorithm Evaluation  <a id='chap3'></a>"
   ]
  },
  {
   "cell_type": "markdown",
   "metadata": {},
   "source": [
    "The algorithms will be evaluated by data1 and data2 generated earlier. There will be in total 3 tests for each algorithm in the following orders:\n",
    "\n",
    "<ol>\n",
    "<li>Trial1: data1 with respect to Symptoms</li>\n",
    "<li>Trial2: data1 with respect to Result</li>\n",
    "<li>Trial3: data2 with respect to Result</li>\n",
    "</ol>"
   ]
  },
  {
   "cell_type": "markdown",
   "metadata": {},
   "source": [
    "### 3.1. CART <a id='chap3.1'></a>"
   ]
  },
  {
   "cell_type": "code",
   "execution_count": 7,
   "metadata": {},
   "outputs": [
    {
     "data": {
      "image/png": "[encoded data removed]",
      "text/plain": [
       "plot without title"
      ]
     },
     "metadata": {},
     "output_type": "display_data"
    }
   ],
   "source": [
    "mytree <- rpart(Symptoms ~. , data = data1, method = \"class\")\n",
    "prp(mytree)"
   ]
  },
  {
   "cell_type": "markdown",
   "metadata": {},
   "source": [
    "CART made the correct cut in the beginning, as stated earlier the main split in Tian et al.(2020) DGP is \"Severity\". Notice the variables that CART chooses for the splitting. A big portion of them are variables with high number of distinctive values."
   ]
  },
  {
   "cell_type": "code",
   "execution_count": 8,
   "metadata": {},
   "outputs": [
    {
     "ename": "ERROR",
     "evalue": "Error in plot.rpart(mytree2): fit is not a tree, just a root\n",
     "output_type": "error",
     "traceback": [
      "Error in plot.rpart(mytree2): fit is not a tree, just a root\nTraceback:\n",
      "1. plot(mytree2)",
      "2. plot.rpart(mytree2)",
      "3. stop(\"fit is not a tree, just a root\")"
     ]
    }
   ],
   "source": [
    "mytree2 <- rpart(Result ~. , data = data1, method = \"class\")\n",
    "plot(mytree2)"
   ]
  },
  {
   "cell_type": "markdown",
   "metadata": {},
   "source": [
    "CART algorithm deems it not worthy to graw a tree."
   ]
  },
  {
   "cell_type": "code",
   "execution_count": 9,
   "metadata": {},
   "outputs": [
    {
     "data": {
      "image/png": "[encoded data removed]",
      "text/plain": [
       "plot without title"
      ]
     },
     "metadata": {},
     "output_type": "display_data"
    }
   ],
   "source": [
    "mytree3 <- rpart(Result ~ ., data = data2, method = \"class\")\n",
    "rpart.plot(mytree3)"
   ]
  },
  {
   "cell_type": "markdown",
   "metadata": {},
   "source": [
    "The initial split confirms that Gini Index prefer split that result in huge difference in purity (a very pure vs very impure). Also all the variables used are variables with huge distinctive values."
   ]
  },
  {
   "cell_type": "markdown",
   "metadata": {},
   "source": [
    "### 3.2. C4.5 <a id='chap3.2'></a>"
   ]
  },
  {
   "cell_type": "code",
   "execution_count": 10,
   "metadata": {},
   "outputs": [
    {
     "data": {
      "image/png": "[encoded data removed]",
      "text/plain": [
       "plot without title"
      ]
     },
     "metadata": {},
     "output_type": "display_data"
    }
   ],
   "source": [
    "J1 <- J48(Symptoms ~., data1)\n",
    "plot(J1)"
   ]
  },
  {
   "cell_type": "markdown",
   "metadata": {},
   "source": [
    "This plot is quite hard to explain as the tree became so complex. The result implies C4.5 does not prune enough to reduce the complexity of the tree. C4.5 also gets the initial split right, but shows selection bias."
   ]
  },
  {
   "cell_type": "code",
   "execution_count": 11,
   "metadata": {},
   "outputs": [
    {
     "data": {
      "image/png": "[encoded data removed]",
      "text/plain": [
       "plot without title"
      ]
     },
     "metadata": {},
     "output_type": "display_data"
    }
   ],
   "source": [
    "J2 <- J48(Result ~., data1)\n",
    "plot(J2)"
   ]
  },
  {
   "cell_type": "markdown",
   "metadata": {},
   "source": [
    "C4.5 has correctly identify the result from DGP1."
   ]
  },
  {
   "cell_type": "code",
   "execution_count": 12,
   "metadata": {},
   "outputs": [
    {
     "data": {
      "image/png": "[encoded data removed]",
      "text/plain": [
       "plot without title"
      ]
     },
     "metadata": {},
     "output_type": "display_data"
    }
   ],
   "source": [
    "J3 <- J48(Result ~.,data2)\n",
    "plot(J3)"
   ]
  },
  {
   "cell_type": "markdown",
   "metadata": {},
   "source": [
    "C4.5 again determines there are no need to have further splits for the result."
   ]
  },
  {
   "cell_type": "markdown",
   "metadata": {},
   "source": [
    "### 3.3. Ctree <a id='chap3.3'></a>"
   ]
  },
  {
   "cell_type": "code",
   "execution_count": 13,
   "metadata": {},
   "outputs": [
    {
     "data": {
      "image/png": "[encoded data removed]",
      "text/plain": [
       "plot without title"
      ]
     },
     "metadata": {},
     "output_type": "display_data"
    }
   ],
   "source": [
    "c1<- ctree(Symptoms ~ .,data1)\n",
    "plot(c1)"
   ]
  },
  {
   "cell_type": "markdown",
   "metadata": {},
   "source": [
    "Ctree only determine the first split is necessary, this is an example of pre-pruning is in effect. The accuracy really suffers here in Ctree as we can see on the left hand side \"No other symptoms\"  has all most the same portion as \"coughing\"."
   ]
  },
  {
   "cell_type": "code",
   "execution_count": 14,
   "metadata": {},
   "outputs": [
    {
     "data": {
      "image/png": "[encoded data removed]",
      "text/plain": [
       "plot without title"
      ]
     },
     "metadata": {},
     "output_type": "display_data"
    }
   ],
   "source": [
    "c2<- ctree(Result ~ .,data1)\n",
    "plot(c2)"
   ]
  },
  {
   "cell_type": "markdown",
   "metadata": {},
   "source": [
    "Ctree deems it unnecessary to have any splits."
   ]
  },
  {
   "cell_type": "code",
   "execution_count": 15,
   "metadata": {},
   "outputs": [
    {
     "data": {
      "image/png": "[encoded data removed]",
      "text/plain": [
       "plot without title"
      ]
     },
     "metadata": {},
     "output_type": "display_data"
    }
   ],
   "source": [
    "c3<- ctree(Result ~ ., data2)\n",
    "plot(c3)"
   ]
  },
  {
   "cell_type": "markdown",
   "metadata": {},
   "source": [
    "Ctree first starts with a split in the \"course\" value then uses \"gender\" to further split the right nodes. The pre-pruning mechanism stops Ctree to further the tree bigger."
   ]
  },
  {
   "cell_type": "markdown",
   "metadata": {},
   "source": [
    "## 4. Conclusion <a id='chap4'></a>"
   ]
  },
  {
   "cell_type": "markdown",
   "metadata": {},
   "source": [
    "All tree algorithms have successfully made the first split among the Trial1 and Trial2. Trial1 is important as it shows us a lot of a lot of above-mentioned properties. In particular, the selection biases for both CART and C4.5, the complex tree from C4.5 and the pre-pruning from Ctree. All algorithms have not grown any trees in Trial2, which match our DGP, as the result has no relation with the other variables. Lastly, below is the accuracy result from Trial3:\n",
    "\n",
    "|  CART |  C4.5  | Ctree |\n",
    "|-------|--------|-------|\n",
    "| 73.4% | 76.2%  | 77.1% |\n",
    "\n",
    "We can see that under Trial3, where the results are computed from other variables, CART has the lowest accuracy while having the most complex tree (in the above pictures). Ctree performs better than both CART and C4.5 when it comes to accuracy and interpretation. As the data amount is small, computational effort can be ignored. \n",
    "\n",
    "Overall, I have shown most of the mechanisms behind each algorithm. I also uses simulated data to showcase certain aspects of different algorithms. The evaluation is rudimentary, as it can be more indept and more testing can be done with the two different DGPs. Also I did not talk about any missing values or over-fitting in certain algorithms. I however believe my attempt in this notebook is reasonable, given the limited scope of the notebook. More research can definitely be done, as tree-based method is an interesting and broad topic by itself. "
   ]
  },
  {
   "cell_type": "markdown",
   "metadata": {},
   "source": [
    "## Appendix <a id='app'></a>\n",
    "\n",
    "<em>Variables explaination for Tian et al.(2020) DGP :</em>\n",
    "<br>\n",
    "\n",
    "|Variables   |Type       |Explaination                                                                                  |\n",
    "|------------|-----------|----------------------------------------------------------------------------------------------|\n",
    "|Severity    |Categorical|This variable determines if a patient is diagnosed as a severe case                           |\n",
    "|Gender      |Categorical|Male or female                                                                                |\n",
    "|Age         |Numerical  |Age                                                                                           |\n",
    "|Address     |Numerical  |Where the patient lives                                                                       |\n",
    "|Contact     |Categorical|Have the patient been in contact with anyone from Wuhan or any infected cases within 14 days  |\n",
    "|Temperature |Numerical  |Body temerature measured during diagnosis                                                     |\n",
    "|Tlabel      |Numerical  |Label correspond to temperature, including: Normal, Fever, and Hyperpyrexia                   |\n",
    "|Symptoms    |Numerical  |Symptoms including Coughing, Fatigue, Dyspnea, Headache (Without fever)                       |\n",
    "|Result      |Categorical|Three categories: discharge, further hospitalization, death                                   |\n",
    "\n",
    "<br>\n",
    "\n",
    "<em>Variables explaination for Jones-White et al.(2014) DGP:</em>                                                                            \n",
    "<br>\n",
    "\n",
    "|Variables   |Type       |Explaination                                                                                       |\n",
    "|------------|-----------|---------------------------------------------------------------------------------------------------|\n",
    "|Gender      |Categorical|Male or female                                                                                     |\n",
    "|Race        |Categorical|Which race is the student from, including White, Asian, and other Minorities\t                     |\n",
    "|Generation  |Categorical|Denotes if the student is the first generation in the family to attend university or not           |\n",
    "|Status\t     |Categorical|Whether the student is younger than 19 on the first day of enrolment in the university             |\n",
    "|Geographic  |Categorical|Details if the students are from specific states                                                   |\n",
    "|Remedy      |Categorical|Shows if the student takes remedial courses or nnot                                                |\n",
    "|Choice      |Categorical|If the observed university is the students' first choice of university or not                      |\n",
    "|Living      |Categorical|Where the student live: Outside Campus or on Campus                                                |\n",
    "|Community   |Categorical|If the student is participating in community activities                                            |\n",
    "|Athlete     |Categorical|If the student is considered as an athlete representitive for the university                       |\n",
    "|Aidtype     |Categorical|Which type of financial aid the student gets, including: None, Loan, Need, and Merit               |\n",
    "|Aidamount   |Numerical  |The amount (in \\$1000 USD) that corresponds to the Aidtype, notice for none it is always 0         |\n",
    "|Unmet       |Numerical  |The amount (in \\$1000 USD) of unmet financial needs that the students get after the Aid            |\n",
    "|ACT         |Numerical  |The score the student gets for composite American College Test (ACT)                               |\n",
    "|AP          |Numerical  |Number of Advanced Placement credit                                                                |\n",
    "|Course      |Numerical  |Course completion rate during the first semester                                                   |\n",
    "|Ccount      |Numerical  |Amount of C counts with the maxium given 5                                                         |\n",
    "|Dcount      |Numerical  |Amount of D counts with the maxium given 4                                                         |\n",
    "|Result      |Categorical|The end result correspond to the paper: Graduated, Transferred then graduated, or Not Graduated    |"
   ]
  },
  {
   "cell_type": "markdown",
   "metadata": {},
   "source": [
    "## Reference <a id='Ref'></a>"
   ]
  },
  {
   "cell_type": "markdown",
   "metadata": {},
   "source": [
    "<em>Journals:</em>\n",
    "\n",
    "- Hssina, B., Merbouha, A., Ezzikouri, H., & Erritali, M. (2014). A comparative study of decision tree ID3 and C4. 5. International Journal of Advanced Computer Science and Applications, 4(2), 13-19.<a id='ref1'></a> <a href=\"https://www.academia.edu/download/34582216/Paper_3-A_comparative_study_of_decision_tree_ID3_and_C4.5.pdf\">Source</a> \n",
    "\n",
    "- Jones-White, D. R., Radcliffe, P. M., Lorenz, L. M., & Soria, K. M. (2014). Priced out?. Research in Higher Education, 55(4), 329-350. <a id='ref2'></a> \n",
    "<a href=\"https://experts.umn.edu/en/publications/priced-out-the-influence-of-financial-aid-on-the-educational-traj\">Source</a> \n",
    "\n",
    "- Loh, W. Y. (2014). Classification and regression tree methods. Wiley StatsRef: Statistics Reference Online. <a id='ref3'></a>  <a href=\"http://pages.stat.wisc.edu/~loh/treeprogs/guide/eqr.pdf\">Source</a>\n",
    "\n",
    "- Loh, W. Y., & Shih, Y. S. (1997). Split selection methods for classification trees. Statistica sinica, 815-840. <a id='ref4'></a>  <a href=\"http://www3.stat.sinica.edu.tw/statistica/oldpdf/A7n41.pdf\">Source</a>\n",
    "\n",
    "- Tian, S., Hu, N., Lou, J., Chen, K., Kang, X., Xiang, Z., ... & Chen, G. (2020). Characteristics of COVID-19 infection in Beijing. Journal of Infection. <a id='ref5'></a> [Source](https://www.journalofinfection.com/article/S0163-4453(20)30101-8/fulltext)\n",
    "\n",
    "\n",
    "<em>Online resources:</em>\n",
    "\n",
    "https://www.cs.waikato.ac.nz/ml/weka/book.html\n",
    "\n",
    "[Back to top](#top)"
   ]
  }
 ],
 "metadata": {
  "kernelspec": {
   "display_name": "R",
   "language": "R",
   "name": "ir"
  },
  "language_info": {
   "codemirror_mode": "r",
   "file_extension": ".r",
   "mimetype": "text/x-r-source",
   "name": "R",
   "pygments_lexer": "r",
   "version": "3.6.1"
  }
 },
 "nbformat": 4,
 "nbformat_minor": 4
}
